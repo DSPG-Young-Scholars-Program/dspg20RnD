{
 "cells": [
  {
   "cell_type": "markdown",
   "metadata": {},
   "source": [
    "# Topic Model Results - NMF, 75 topics"
   ]
  },
  {
   "cell_type": "code",
   "execution_count": 1,
   "metadata": {},
   "outputs": [],
   "source": [
    "import pandas as pd\n",
    "import numpy as np\n",
    "import pickle\n",
    "import matplotlib.pyplot as plt\n",
    "import seaborn as sns"
   ]
  },
  {
   "cell_type": "code",
   "execution_count": 2,
   "metadata": {},
   "outputs": [],
   "source": [
    "nmf_df = pd.read_pickle(\"./nmf_results.pkl\")"
   ]
  },
  {
   "cell_type": "code",
   "execution_count": 20,
   "metadata": {},
   "outputs": [],
   "source": [
    "nmf_df.to_csv(\"./nmf_df.csv\", index = False, header = True)"
   ]
  },
  {
   "cell_type": "code",
   "execution_count": 4,
   "metadata": {},
   "outputs": [
    {
     "name": "stdout",
     "output_type": "stream",
     "text": [
      "(75, 9)\n"
     ]
    },
    {
     "data": {
      "text/html": [
       "<div>\n",
       "<style scoped>\n",
       "    .dataframe tbody tr th:only-of-type {\n",
       "        vertical-align: middle;\n",
       "    }\n",
       "\n",
       "    .dataframe tbody tr th {\n",
       "        vertical-align: top;\n",
       "    }\n",
       "\n",
       "    .dataframe thead th {\n",
       "        text-align: right;\n",
       "    }\n",
       "</style>\n",
       "<table border=\"1\" class=\"dataframe\">\n",
       "  <thead>\n",
       "    <tr style=\"text-align: right;\">\n",
       "      <th></th>\n",
       "      <th>topic_words</th>\n",
       "      <th>coherence_mean</th>\n",
       "      <th>coherence_stdev</th>\n",
       "      <th>avg_weight_in_corpus</th>\n",
       "      <th>med_weight_in_corpus</th>\n",
       "      <th>num_docs_containing_topic</th>\n",
       "      <th>percent_docs_containing_topic</th>\n",
       "      <th>num_times_max_topic</th>\n",
       "      <th>percent_times_max_topic</th>\n",
       "    </tr>\n",
       "  </thead>\n",
       "  <tbody>\n",
       "    <tr>\n",
       "      <th>0</th>\n",
       "      <td>[cell, differentiation, cellular, antigen, cul...</td>\n",
       "      <td>0.615038</td>\n",
       "      <td>0.108656</td>\n",
       "      <td>0.000502</td>\n",
       "      <td>1.968816e-07</td>\n",
       "      <td>346034.0</td>\n",
       "      <td>50.090762</td>\n",
       "      <td>767</td>\n",
       "      <td>0.111028</td>\n",
       "    </tr>\n",
       "    <tr>\n",
       "      <th>1</th>\n",
       "      <td>[student, undergraduate, graduate, college, fa...</td>\n",
       "      <td>0.881729</td>\n",
       "      <td>0.051303</td>\n",
       "      <td>0.001211</td>\n",
       "      <td>0.000000e+00</td>\n",
       "      <td>217644.0</td>\n",
       "      <td>31.505441</td>\n",
       "      <td>17352</td>\n",
       "      <td>2.511819</td>\n",
       "    </tr>\n",
       "    <tr>\n",
       "      <th>2</th>\n",
       "      <td>[cancer, nci, pancreatic, member, ovarian, pre...</td>\n",
       "      <td>0.662256</td>\n",
       "      <td>0.151528</td>\n",
       "      <td>0.001800</td>\n",
       "      <td>0.000000e+00</td>\n",
       "      <td>251421.0</td>\n",
       "      <td>36.394891</td>\n",
       "      <td>24706</td>\n",
       "      <td>3.576361</td>\n",
       "    </tr>\n",
       "    <tr>\n",
       "      <th>3</th>\n",
       "      <td>[hiv, aids, infect, prevention, cfar, antiretr...</td>\n",
       "      <td>0.770968</td>\n",
       "      <td>0.148324</td>\n",
       "      <td>0.000582</td>\n",
       "      <td>0.000000e+00</td>\n",
       "      <td>216121.0</td>\n",
       "      <td>31.284977</td>\n",
       "      <td>9563</td>\n",
       "      <td>1.384309</td>\n",
       "    </tr>\n",
       "    <tr>\n",
       "      <th>4</th>\n",
       "      <td>[infection, infect, immune, viral, hpv, hcv, p...</td>\n",
       "      <td>0.713201</td>\n",
       "      <td>0.154076</td>\n",
       "      <td>0.001173</td>\n",
       "      <td>0.000000e+00</td>\n",
       "      <td>236715.0</td>\n",
       "      <td>34.266098</td>\n",
       "      <td>15936</td>\n",
       "      <td>2.306844</td>\n",
       "    </tr>\n",
       "  </tbody>\n",
       "</table>\n",
       "</div>"
      ],
      "text/plain": [
       "                                         topic_words  coherence_mean  \\\n",
       "0  [cell, differentiation, cellular, antigen, cul...        0.615038   \n",
       "1  [student, undergraduate, graduate, college, fa...        0.881729   \n",
       "2  [cancer, nci, pancreatic, member, ovarian, pre...        0.662256   \n",
       "3  [hiv, aids, infect, prevention, cfar, antiretr...        0.770968   \n",
       "4  [infection, infect, immune, viral, hpv, hcv, p...        0.713201   \n",
       "\n",
       "   coherence_stdev  avg_weight_in_corpus  med_weight_in_corpus  \\\n",
       "0         0.108656              0.000502          1.968816e-07   \n",
       "1         0.051303              0.001211          0.000000e+00   \n",
       "2         0.151528              0.001800          0.000000e+00   \n",
       "3         0.148324              0.000582          0.000000e+00   \n",
       "4         0.154076              0.001173          0.000000e+00   \n",
       "\n",
       "   num_docs_containing_topic  percent_docs_containing_topic  \\\n",
       "0                   346034.0                      50.090762   \n",
       "1                   217644.0                      31.505441   \n",
       "2                   251421.0                      36.394891   \n",
       "3                   216121.0                      31.284977   \n",
       "4                   236715.0                      34.266098   \n",
       "\n",
       "   num_times_max_topic  percent_times_max_topic  \n",
       "0                  767                 0.111028  \n",
       "1                17352                 2.511819  \n",
       "2                24706                 3.576361  \n",
       "3                 9563                 1.384309  \n",
       "4                15936                 2.306844  "
      ]
     },
     "execution_count": 4,
     "metadata": {},
     "output_type": "execute_result"
    }
   ],
   "source": [
    "print(nmf_df.shape)\n",
    "nmf_df.head()"
   ]
  },
  {
   "cell_type": "code",
   "execution_count": 12,
   "metadata": {},
   "outputs": [
    {
     "data": {
      "image/png": "[encoded data removed]",
      "text/plain": [
       "<Figure size 864x432 with 1 Axes>"
      ]
     },
     "metadata": {
      "needs_background": "light"
     },
     "output_type": "display_data"
    }
   ],
   "source": [
    "plt.figure(figsize=(12,6))\n",
    "nmf_df[\"percent_docs_containing_topic\"].plot(kind=\"bar\");\n",
    "plt.title(\"Number of Topics per Abstract\")\n",
    "plt.xlabel(\"Topic\")\n",
    "plt.ylabel(\"Number of Abstracts Containing the Topic\");"
   ]
  },
  {
   "cell_type": "code",
   "execution_count": 14,
   "metadata": {},
   "outputs": [],
   "source": [
    "perc_sorted = nmf_df[\"percent_docs_containing_topic\"].sort_values()\n"
   ]
  },
  {
   "cell_type": "code",
   "execution_count": 17,
   "metadata": {},
   "outputs": [
    {
     "data": {
      "text/plain": [
       "23    24.406570\n",
       "59    25.132235\n",
       "58    25.310431\n",
       "30    26.513794\n",
       "50    26.793319\n",
       "        ...    \n",
       "39    45.115038\n",
       "53    45.147029\n",
       "9     45.436253\n",
       "10    48.081683\n",
       "0     50.090762\n",
       "Name: percent_docs_containing_topic, Length: 75, dtype: float64"
      ]
     },
     "execution_count": 17,
     "metadata": {},
     "output_type": "execute_result"
    }
   ],
   "source": [
    "perc_sorted"
   ]
  },
  {
   "cell_type": "code",
   "execution_count": 19,
   "metadata": {},
   "outputs": [
    {
     "data": {
      "text/plain": [
       "Text(0, 0.5, 'Group')"
      ]
     },
     "execution_count": 19,
     "metadata": {},
     "output_type": "execute_result"
    },
    {
     "data": {
      "image/png": "[encoded data removed]",
      "text/plain": [
       "<Figure size 432x864 with 1 Axes>"
      ]
     },
     "metadata": {
      "needs_background": "light"
     },
     "output_type": "display_data"
    }
   ],
   "source": [
    "plt.figure(figsize=(6,12))\n",
    "plt.hlines(y=perc_sorted.index, xmin=0, xmax=perc_sorted, color='skyblue')\n",
    "plt.plot(perc_sorted, perc_sorted.index, \"o\")\n",
    " \n",
    "# Add titles and axis names\n",
    "#plt.yticks(my_range, ordered_df['group'])\n",
    "plt.title(\"A vertical lolipop plot\", loc='left')\n",
    "plt.xlabel('Value of the variable')\n",
    "plt.ylabel('Group')"
   ]
  },
  {
   "cell_type": "code",
   "execution_count": 13,
   "metadata": {},
   "outputs": [
    {
     "data": {
      "text/plain": [
       "RangeIndex(start=0, stop=75, step=1)"
      ]
     },
     "execution_count": 13,
     "metadata": {},
     "output_type": "execute_result"
    }
   ],
   "source": [
    "nmf_df.index"
   ]
  },
  {
   "cell_type": "code",
   "execution_count": null,
   "metadata": {},
   "outputs": [],
   "source": []
  }
 ],
 "metadata": {
  "kernelspec": {
   "display_name": "Python 3",
   "language": "python",
   "name": "python3"
  },
  "language_info": {
   "codemirror_mode": {
    "name": "ipython",
    "version": 3
   },
   "file_extension": ".py",
   "mimetype": "text/x-python",
   "name": "python",
   "nbconvert_exporter": "python",
   "pygments_lexer": "ipython3",
   "version": "3.7.4"
  }
 },
 "nbformat": 4,
 "nbformat_minor": 4
}
