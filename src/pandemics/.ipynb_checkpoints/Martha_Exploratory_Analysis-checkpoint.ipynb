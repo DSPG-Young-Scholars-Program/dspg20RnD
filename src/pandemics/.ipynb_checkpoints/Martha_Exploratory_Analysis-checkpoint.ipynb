{
 "cells": [
  {
   "cell_type": "code",
   "execution_count": 1,
   "metadata": {},
   "outputs": [
    {
     "name": "stdout",
     "output_type": "stream",
     "text": [
      "Populating the interactive namespace from numpy and matplotlib\n"
     ]
    }
   ],
   "source": [
    "import pandas as pd\n",
    "import numpy as np\n",
    "import pickle\n",
    "import matplotlib.pyplot as plt\n",
    "import gensim\n",
    "import time\n",
    "\n",
    "from sklearn.decomposition import NMF, TruncatedSVD, LatentDirichletAllocation\n",
    "from sklearn.feature_extraction.text import CountVectorizer\n",
    "from sklearn.feature_extraction.text import TfidfVectorizer\n",
    "from sklearn.metrics import pairwise_distances\n",
    "\n",
    "from pandas import Series, DataFrame\n",
    "import pandas as pd\n",
    "%pylab inline\n",
    "\n",
    "#from gensim.models.coherencemodel import CoherenceModel\n",
    "\n",
    "import TextCleaning"
   ]
  },
  {
   "cell_type": "code",
   "execution_count": null,
   "metadata": {},
   "outputs": [],
   "source": [
    "# pull in raw abstracts\n",
    "\n",
    "raw_df=pd.read_csv('../../data/original/raw_abstracts.csv',engine='python')\n",
    "\n",
    "# remove null abstracts and duplicates\n",
    "\n",
    "df = TextCleaning.remove_nulls(raw_df, \"ABSTRACT\")\n",
    "df = TextCleaning.remove_duplicates(df)\n",
    "\n",
    "df.reset_index(inplace = True)\n",
    "df.rename(columns={'index':'original index'}, inplace=True)"
   ]
  },
  {
   "cell_type": "code",
   "execution_count": null,
   "metadata": {},
   "outputs": [],
   "source": [
    "df.head()"
   ]
  },
  {
   "cell_type": "code",
   "execution_count": null,
   "metadata": {},
   "outputs": [],
   "source": [
    "df.dtypes"
   ]
  },
  {
   "cell_type": "code",
   "execution_count": null,
   "metadata": {},
   "outputs": [],
   "source": [
    "cfda_dict = pd.read_csv('../../data/CFDA_Dictionary.csv',engine='python')\n",
    "cfda_dict.dtypes\n",
    "cfda_dict['clean_CFDA']\n",
    "\n",
    "def alignCFDA (c):\n",
    "    c= str(c)\n",
    "    split_c = c.split(\".\")\n",
    "    first_c = split_c[0]\n",
    "    return first_c\n",
    "cfda_dict['clean_CFDA'] =  cfda_dict['clean_CFDA'].apply(alignCFDA)\n",
    "cfda_dict\n"
   ]
  },
  {
   "cell_type": "markdown",
   "metadata": {},
   "source": [
    "# Basic Stats"
   ]
  },
  {
   "cell_type": "code",
   "execution_count": null,
   "metadata": {},
   "outputs": [],
   "source": [
    "#Basic data stats\n",
    "len(df)"
   ]
  },
  {
   "cell_type": "code",
   "execution_count": null,
   "metadata": {},
   "outputs": [],
   "source": [
    "#Each row is a different project- no duplicate projects\n",
    "len(df['PROJECT_ID'].unique())"
   ]
  },
  {
   "cell_type": "code",
   "execution_count": null,
   "metadata": {},
   "outputs": [],
   "source": [
    "#Each row is a different project- no duplicate projects\n",
    "len(df['CONTACT_PI_PROJECT_LEADER'].unique())\n",
    "#Unique -Project Leaders \n",
    "len(df['CONTACT_PI_PROJECT_LEADER'].unique())/len(df) *100"
   ]
  },
  {
   "cell_type": "code",
   "execution_count": null,
   "metadata": {},
   "outputs": [],
   "source": [
    "def cleanProjectLeaders(c):\n",
    "    if c ==\",\":\n",
    "        return float(\"Nan\")\n",
    "    else:\n",
    "        return c\n",
    "df['CONTACT_PI_PROJECT_LEADER'] = df['CONTACT_PI_PROJECT_LEADER'].apply(cleanProjectLeaders)"
   ]
  },
  {
   "cell_type": "code",
   "execution_count": null,
   "metadata": {},
   "outputs": [],
   "source": [
    "df['CONTACT_PI_PROJECT_LEADER'] =df['CONTACT_PI_PROJECT_LEADER'].dropna(how='any')\n",
    "cfda_counts= df['CONTACT_PI_PROJECT_LEADER'].value_counts()[:25]\n",
    "cfda_counts.plot(kind='barh')\n",
    "xlabel('CONTACT_PI_PROJECT_LEADER')\n",
    "ylabel('Frequency')\n",
    "title('Top 25 Contact PI Project Leaders')"
   ]
  },
  {
   "cell_type": "code",
   "execution_count": null,
   "metadata": {},
   "outputs": [],
   "source": [
    "#Each row is a different project- no duplicate projects\n",
    "len(df['OTHER_PIS'].unique())\n",
    "#Unique -Project Leaders \n",
    "len(df['OTHER_PIS'].unique())/len(df) *100\n",
    "\n",
    "#df['OTHER_PIS'].value_counts()"
   ]
  },
  {
   "cell_type": "code",
   "execution_count": null,
   "metadata": {},
   "outputs": [],
   "source": [
    "df['OTHER_PIS'] =df['OTHER_PIS'].dropna(how='any')\n",
    "cfda_counts= df['OTHER_PIS'].value_counts()[:25]\n",
    "cfda_counts.plot(kind='barh')\n",
    "xlabel('OTHER_PIS')\n",
    "ylabel('Frequency')\n",
    "title('Top 25 Other PIS')"
   ]
  },
  {
   "cell_type": "code",
   "execution_count": null,
   "metadata": {},
   "outputs": [],
   "source": [
    "#Each row is a different project- no duplicate projects\n",
    "len(df['ORGANIZATION_NAME'].unique())\n",
    "#Unique -Project Leaders \n",
    "len(df['ORGANIZATION_NAME'].unique())/len(df) *100\n",
    "df['ORGANIZATION_NAME'].value_counts()"
   ]
  },
  {
   "cell_type": "code",
   "execution_count": null,
   "metadata": {},
   "outputs": [],
   "source": [
    "df['ORGANIZATION_NAME'] =df['ORGANIZATION_NAME'].dropna(how='any')\n",
    "cfda_counts= df['ORGANIZATION_NAME'].value_counts()[:25]\n",
    "cfda_counts.plot(kind='barh')\n",
    "xlabel('ORGANIZATION NAME')\n",
    "ylabel('Frequency')\n",
    "title('Top 25 ORGANIZATIONS')"
   ]
  },
  {
   "cell_type": "code",
   "execution_count": null,
   "metadata": {},
   "outputs": [],
   "source": [
    "len(df['ORGANIZATION_NAME'].unique())"
   ]
  },
  {
   "cell_type": "code",
   "execution_count": null,
   "metadata": {},
   "outputs": [],
   "source": [
    "#FY-Cost\n",
    "import plotly.express as px\n",
    "fig = px.box(df, y=\"FY_TOTAL_COST\")\n",
    "fig.show()"
   ]
  },
  {
   "cell_type": "code",
   "execution_count": null,
   "metadata": {},
   "outputs": [],
   "source": [
    "df['FY_TOTAL_COST_BUCKET'] = pd.qcut(df['FY_TOTAL_COST'],10)\n",
    "df['FY_TOTAL_COST_BUCKET'].value_counts()\n",
    "\n",
    "#visdf = df[['FY_TOTAL_COST_BUCKET','ORGANIZATION_NAME']]\n",
    "#visdf.groupby(['FY_TOTAL_COST_BUCKET']).agg('count').unstack(1).plot(kind='bar',subplots = True)"
   ]
  },
  {
   "cell_type": "markdown",
   "metadata": {},
   "source": [
    "#CFDA Code"
   ]
  },
  {
   "cell_type": "code",
   "execution_count": null,
   "metadata": {},
   "outputs": [],
   "source": [
    "df['CFDA_CODE'].value_counts()\n",
    "len(df['CFDA_CODE'])\n",
    "df['CFDA_CODE'] =df['CFDA_CODE'].dropna(how='any')\n",
    "cfda_counts= df['CFDA_CODE'].value_counts()[:25]\n",
    "cfda_counts.plot(kind='bar')\n",
    "xlabel('CFDA Code')\n",
    "ylabel('Frequency')\n",
    "title('Top 25 CFDA Codes')"
   ]
  },
  {
   "cell_type": "code",
   "execution_count": null,
   "metadata": {},
   "outputs": [],
   "source": [
    "#Feature Engineering CFDA Code\n",
    "# https://www.osp.pitt.edu/what-cfda-number#:~:text=What%20is%20a%20CFDA%20Number%3F,assigned%20a%20unique%20number%20(XX. - meaning\n",
    "\n",
    "def getFundingAgencyCFDA(cfda):\n",
    "    string_cfda = str(cfda)\n",
    "    split_cfda = string_cfda.split(\".\")\n",
    "    fundingagency= split_cfda[0]\n",
    "    return fundingagency\n",
    "df['FUNDING_AGENCY_CFDA'] =  df['CFDA_CODE'].apply(getFundingAgencyCFDA)\n",
    "\n",
    "df['FUNDING_AGENCY_CFDA']"
   ]
  },
  {
   "cell_type": "code",
   "execution_count": null,
   "metadata": {},
   "outputs": [],
   "source": [
    "def getProgramCFDA(cfda):\n",
    "    string_cfda = str(cfda)\n",
    "    split_cfda = string_cfda.split(\".\")\n",
    "    if len(split_cfda) == 2:\n",
    "        program=split_cfda[1]\n",
    "        return program\n",
    "    else:\n",
    "        return np.nan\n",
    "            \n",
    "df['Program_CFDA'] = df['CFDA_CODE'].apply(getProgramCFDA)\n",
    "\n",
    "df['Program_CFDA']\n",
    "\n",
    "df.head(100)"
   ]
  },
  {
   "cell_type": "code",
   "execution_count": null,
   "metadata": {},
   "outputs": [],
   "source": [
    "cost_counts = df['FUNDING_AGENCY_CFDA'].value_counts()[:10]\n",
    "cost_counts.plot(kind='bar')\n",
    "xlabel('Program')\n",
    "ylabel('Frequency')\n",
    "title('Top 10 Funding Agencies from CFDA Code')"
   ]
  },
  {
   "cell_type": "code",
   "execution_count": null,
   "metadata": {},
   "outputs": [],
   "source": [
    "def matchCFDACode(c):\n",
    "    string_cfda = str(c)\n",
    "    split_cfda = string_cfda.split(\".\")\n",
    "    if len(split_cfda) == 2:\n",
    "        no_dot_cfda  = split_cfda[0]+split_cfda[1]\n",
    "        return no_dot_cfda\n",
    "    else:\n",
    "        return np.nan\n",
    "df['clean_CFDA'] = df['CFDA_CODE'].apply(matchCFDACode)\n",
    "\n",
    "    "
   ]
  },
  {
   "cell_type": "code",
   "execution_count": null,
   "metadata": {},
   "outputs": [],
   "source": [
    "full_df = pd.merge(left=df, right=cfda_dict, left_on = \"clean_CFDA\", right_on = \"clean_CFDA\")\n",
    "full_df['Program_Title'].value_counts()"
   ]
  },
  {
   "cell_type": "code",
   "execution_count": null,
   "metadata": {},
   "outputs": [],
   "source": [
    "program_counts = full_df['Program_Title'].value_counts()[:25]\n",
    "program_counts.plot(kind='barh')\n",
    "xlabel('Frequency')\n",
    "ylabel('Program')\n",
    "title('Top 25 Program Titles from CFDA Code')"
   ]
  },
  {
   "cell_type": "code",
   "execution_count": null,
   "metadata": {},
   "outputs": [],
   "source": [
    "import plotly.express as px"
   ]
  },
  {
   "cell_type": "code",
   "execution_count": null,
   "metadata": {},
   "outputs": [],
   "source": [
    "import plotly.express as px\n",
    "fig = px.scatter(df, x=\"FY_TOTAL_COST\", y = \"FY_TOTAL_COST_BUCKET\")\n",
    "fig.show()"
   ]
  },
  {
   "cell_type": "code",
   "execution_count": null,
   "metadata": {},
   "outputs": [],
   "source": []
  }
 ],
 "metadata": {
  "kernelspec": {
   "display_name": "Python 3",
   "language": "python",
   "name": "python3"
  },
  "language_info": {
   "codemirror_mode": {
    "name": "ipython",
    "version": 3
   },
   "file_extension": ".py",
   "mimetype": "text/x-python",
   "name": "python",
   "nbconvert_exporter": "python",
   "pygments_lexer": "ipython3",
   "version": "3.7.4"
  }
 },
 "nbformat": 4,
 "nbformat_minor": 4
}
