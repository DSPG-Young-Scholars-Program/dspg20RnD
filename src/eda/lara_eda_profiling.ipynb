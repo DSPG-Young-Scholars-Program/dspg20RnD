{
 "cells": [
  {
   "cell_type": "code",
   "execution_count": 13,
   "metadata": {},
   "outputs": [],
   "source": [
    "import pandas as pd\n",
    "import numpy as np\n",
    "import pickle\n",
    "import matplotlib.pyplot as plt\n",
    "import gensim\n",
    "import time\n",
    "\n",
    "#from sklearn.decomposition import NMF, TruncatedSVD, LatentDirichletAllocation\n",
    "#from sklearn.feature_extraction.text import CountVectorizer\n",
    "#from sklearn.feature_extraction.text import TfidfVectorizer\n",
    "#from sklearn.metrics import pairwise_distances\n",
    "\n",
    "#from gensim.models.coherencemodel import CoherenceModel\n",
    "\n",
    "#import TextCleaning_update"
   ]
  },
  {
   "cell_type": "code",
   "execution_count": 14,
   "metadata": {},
   "outputs": [],
   "source": [
    "# pull in old 2018 raw abstracts\n",
    "old = pd.read_csv('../../data/original/raw_abstracts.csv',engine='python')\n",
    "\n",
    "# remove null abstracts and duplicates\n",
    "#olddf = TextCleaning.remove_nulls(raw_df, \"ABSTRACT\")\n",
    "#olddf = TextCleaning.remove_duplicates(df)\n",
    "\n",
    "old.reset_index(inplace = True)\n",
    "old.rename(columns={'index':'original index'}, inplace=True)"
   ]
  },
  {
   "cell_type": "code",
   "execution_count": 15,
   "metadata": {},
   "outputs": [],
   "source": [
    "#import new data with 2019 added\n",
    "\n",
    "raw = pd.read_csv('../../data/original/working_federal_reporter_2020.csv',engine='python')"
   ]
  },
  {
   "cell_type": "code",
   "execution_count": 16,
   "metadata": {},
   "outputs": [],
   "source": [
    "#df = new\n",
    "#df = TextCleaning.remove_nulls(new, \"ABSTRACT\")\n",
    "#df = TextCleaning.remove_duplicates(df)\n",
    "\n",
    "raw.reset_index(inplace = True)\n",
    "raw.rename(columns={'index':'original index'}, inplace=True)"
   ]
  },
  {
   "cell_type": "markdown",
   "metadata": {},
   "source": [
    "## Assess difference between two 'FY' columns"
   ]
  },
  {
   "cell_type": "code",
   "execution_count": 17,
   "metadata": {},
   "outputs": [
    {
     "data": {
      "text/plain": [
       "FY.x    35035\n",
       "FY.y       19\n",
       "dtype: int64"
      ]
     },
     "execution_count": 17,
     "metadata": {},
     "output_type": "execute_result"
    }
   ],
   "source": [
    "disagree_years = raw[raw['FY.x'] != raw['FY.y']][['FY.x','FY.y']]\n",
    "disagree_years.isnull().sum()"
   ]
  },
  {
   "cell_type": "code",
   "execution_count": 18,
   "metadata": {},
   "outputs": [],
   "source": [
    "#Fill NAs in FY.x column with values from FY.y\n",
    "raw['FY.x'] = raw['FY.x'].fillna(raw['FY.y'])"
   ]
  },
  {
   "cell_type": "code",
   "execution_count": 19,
   "metadata": {},
   "outputs": [
    {
     "data": {
      "text/plain": [
       "FY.x     0\n",
       "FY.y    19\n",
       "dtype: int64"
      ]
     },
     "execution_count": 19,
     "metadata": {},
     "output_type": "execute_result"
    }
   ],
   "source": [
    "#recheck where FY columns are mismatched\n",
    "raw[raw['FY.x'] != raw['FY.y']][['FY.x','FY.y']].isnull().sum()"
   ]
  },
  {
   "cell_type": "code",
   "execution_count": 20,
   "metadata": {},
   "outputs": [
    {
     "data": {
      "text/html": [
       "<div>\n",
       "<style scoped>\n",
       "    .dataframe tbody tr th:only-of-type {\n",
       "        vertical-align: middle;\n",
       "    }\n",
       "\n",
       "    .dataframe tbody tr th {\n",
       "        vertical-align: top;\n",
       "    }\n",
       "\n",
       "    .dataframe thead th {\n",
       "        text-align: right;\n",
       "    }\n",
       "</style>\n",
       "<table border=\"1\" class=\"dataframe\">\n",
       "  <thead>\n",
       "    <tr style=\"text-align: right;\">\n",
       "      <th></th>\n",
       "      <th>FY.x</th>\n",
       "      <th>FY.y</th>\n",
       "    </tr>\n",
       "  </thead>\n",
       "  <tbody>\n",
       "    <tr>\n",
       "      <td>16282</td>\n",
       "      <td>2008.0</td>\n",
       "      <td>NaN</td>\n",
       "    </tr>\n",
       "    <tr>\n",
       "      <td>50636</td>\n",
       "      <td>2008.0</td>\n",
       "      <td>NaN</td>\n",
       "    </tr>\n",
       "    <tr>\n",
       "      <td>73128</td>\n",
       "      <td>2008.0</td>\n",
       "      <td>NaN</td>\n",
       "    </tr>\n",
       "    <tr>\n",
       "      <td>73784</td>\n",
       "      <td>2008.0</td>\n",
       "      <td>81405.0</td>\n",
       "    </tr>\n",
       "    <tr>\n",
       "      <td>73807</td>\n",
       "      <td>2008.0</td>\n",
       "      <td>329831.0</td>\n",
       "    </tr>\n",
       "    <tr>\n",
       "      <td>87421</td>\n",
       "      <td>2008.0</td>\n",
       "      <td>7073.0</td>\n",
       "    </tr>\n",
       "    <tr>\n",
       "      <td>126758</td>\n",
       "      <td>2009.0</td>\n",
       "      <td>NaN</td>\n",
       "    </tr>\n",
       "    <tr>\n",
       "      <td>154276</td>\n",
       "      <td>2009.0</td>\n",
       "      <td>NaN</td>\n",
       "    </tr>\n",
       "    <tr>\n",
       "      <td>187001</td>\n",
       "      <td>2009.0</td>\n",
       "      <td>320749.0</td>\n",
       "    </tr>\n",
       "    <tr>\n",
       "      <td>187618</td>\n",
       "      <td>2009.0</td>\n",
       "      <td>79171.0</td>\n",
       "    </tr>\n",
       "    <tr>\n",
       "      <td>217077</td>\n",
       "      <td>2010.0</td>\n",
       "      <td>599098.0</td>\n",
       "    </tr>\n",
       "    <tr>\n",
       "      <td>234019</td>\n",
       "      <td>2010.0</td>\n",
       "      <td>NaN</td>\n",
       "    </tr>\n",
       "    <tr>\n",
       "      <td>269035</td>\n",
       "      <td>2010.0</td>\n",
       "      <td>NaN</td>\n",
       "    </tr>\n",
       "    <tr>\n",
       "      <td>293939</td>\n",
       "      <td>2010.0</td>\n",
       "      <td>NaN</td>\n",
       "    </tr>\n",
       "    <tr>\n",
       "      <td>298423</td>\n",
       "      <td>2010.0</td>\n",
       "      <td>332527.0</td>\n",
       "    </tr>\n",
       "    <tr>\n",
       "      <td>298975</td>\n",
       "      <td>2010.0</td>\n",
       "      <td>82071.0</td>\n",
       "    </tr>\n",
       "    <tr>\n",
       "      <td>301571</td>\n",
       "      <td>2010.0</td>\n",
       "      <td>NaN</td>\n",
       "    </tr>\n",
       "    <tr>\n",
       "      <td>307530</td>\n",
       "      <td>2010.0</td>\n",
       "      <td>20772.0</td>\n",
       "    </tr>\n",
       "    <tr>\n",
       "      <td>382348</td>\n",
       "      <td>2011.0</td>\n",
       "      <td>NaN</td>\n",
       "    </tr>\n",
       "    <tr>\n",
       "      <td>461470</td>\n",
       "      <td>2012.0</td>\n",
       "      <td>NaN</td>\n",
       "    </tr>\n",
       "    <tr>\n",
       "      <td>532149</td>\n",
       "      <td>2013.0</td>\n",
       "      <td>NaN</td>\n",
       "    </tr>\n",
       "    <tr>\n",
       "      <td>640622</td>\n",
       "      <td>2014.0</td>\n",
       "      <td>NaN</td>\n",
       "    </tr>\n",
       "    <tr>\n",
       "      <td>944963</td>\n",
       "      <td>2017.0</td>\n",
       "      <td>NaN</td>\n",
       "    </tr>\n",
       "    <tr>\n",
       "      <td>944965</td>\n",
       "      <td>2017.0</td>\n",
       "      <td>NaN</td>\n",
       "    </tr>\n",
       "    <tr>\n",
       "      <td>1039323</td>\n",
       "      <td>2018.0</td>\n",
       "      <td>NaN</td>\n",
       "    </tr>\n",
       "    <tr>\n",
       "      <td>1039325</td>\n",
       "      <td>2018.0</td>\n",
       "      <td>NaN</td>\n",
       "    </tr>\n",
       "    <tr>\n",
       "      <td>1086239</td>\n",
       "      <td>2019.0</td>\n",
       "      <td>NaN</td>\n",
       "    </tr>\n",
       "    <tr>\n",
       "      <td>1087833</td>\n",
       "      <td>2019.0</td>\n",
       "      <td>993326.0</td>\n",
       "    </tr>\n",
       "    <tr>\n",
       "      <td>1112738</td>\n",
       "      <td>2019.0</td>\n",
       "      <td>NaN</td>\n",
       "    </tr>\n",
       "  </tbody>\n",
       "</table>\n",
       "</div>"
      ],
      "text/plain": [
       "           FY.x      FY.y\n",
       "16282    2008.0       NaN\n",
       "50636    2008.0       NaN\n",
       "73128    2008.0       NaN\n",
       "73784    2008.0   81405.0\n",
       "73807    2008.0  329831.0\n",
       "87421    2008.0    7073.0\n",
       "126758   2009.0       NaN\n",
       "154276   2009.0       NaN\n",
       "187001   2009.0  320749.0\n",
       "187618   2009.0   79171.0\n",
       "217077   2010.0  599098.0\n",
       "234019   2010.0       NaN\n",
       "269035   2010.0       NaN\n",
       "293939   2010.0       NaN\n",
       "298423   2010.0  332527.0\n",
       "298975   2010.0   82071.0\n",
       "301571   2010.0       NaN\n",
       "307530   2010.0   20772.0\n",
       "382348   2011.0       NaN\n",
       "461470   2012.0       NaN\n",
       "532149   2013.0       NaN\n",
       "640622   2014.0       NaN\n",
       "944963   2017.0       NaN\n",
       "944965   2017.0       NaN\n",
       "1039323  2018.0       NaN\n",
       "1039325  2018.0       NaN\n",
       "1086239  2019.0       NaN\n",
       "1087833  2019.0  993326.0\n",
       "1112738  2019.0       NaN"
      ]
     },
     "execution_count": 20,
     "metadata": {},
     "output_type": "execute_result"
    }
   ],
   "source": [
    "raw[raw['FY.x'] != raw['FY.y']][['FY.x','FY.y']]"
   ]
  },
  {
   "cell_type": "code",
   "execution_count": 21,
   "metadata": {},
   "outputs": [],
   "source": [
    "#rename 'FY.x' as 'FY' to fit downstream code\n",
    "raw = raw.rename(columns={'FY.x': 'FY'})"
   ]
  },
  {
   "cell_type": "code",
   "execution_count": 22,
   "metadata": {},
   "outputs": [],
   "source": [
    "#drop FY.y columns\n",
    "raw = raw.drop(['FY.y'], axis=1)"
   ]
  },
  {
   "cell_type": "code",
   "execution_count": null,
   "metadata": {},
   "outputs": [],
   "source": []
  },
  {
   "cell_type": "markdown",
   "metadata": {},
   "source": [
    "# DE-DUPLICATION"
   ]
  },
  {
   "cell_type": "code",
   "execution_count": 23,
   "metadata": {},
   "outputs": [
    {
     "data": {
      "text/plain": [
       "0"
      ]
     },
     "execution_count": 23,
     "metadata": {},
     "output_type": "execute_result"
    }
   ],
   "source": [
    "# check to make sure \"original index\" columns do not have different values\n",
    "(raw['original index'] != raw['original index']).sum()"
   ]
  },
  {
   "cell_type": "code",
   "execution_count": 24,
   "metadata": {},
   "outputs": [],
   "source": [
    "raw = raw.drop(['original index'], axis=1)"
   ]
  },
  {
   "cell_type": "code",
   "execution_count": 25,
   "metadata": {},
   "outputs": [
    {
     "data": {
      "text/plain": [
       "0"
      ]
     },
     "execution_count": 25,
     "metadata": {},
     "output_type": "execute_result"
    }
   ],
   "source": [
    "#each row has a unique Project ID\n",
    "pid = raw.PROJECT_ID.value_counts()> 1\n",
    "pid.sum()"
   ]
  },
  {
   "cell_type": "code",
   "execution_count": 26,
   "metadata": {},
   "outputs": [
    {
     "data": {
      "text/plain": [
       "3605"
      ]
     },
     "execution_count": 26,
     "metadata": {},
     "output_type": "execute_result"
    }
   ],
   "source": [
    "#Some PROJECT_NUMBERs are repeated\n",
    "pnum = raw.PROJECT_NUMBER.value_counts()> 1\n",
    "pnum.sum()"
   ]
  },
  {
   "cell_type": "code",
   "execution_count": null,
   "metadata": {},
   "outputs": [],
   "source": []
  },
  {
   "cell_type": "code",
   "execution_count": 27,
   "metadata": {},
   "outputs": [
    {
     "data": {
      "text/html": [
       "<div>\n",
       "<style scoped>\n",
       "    .dataframe tbody tr th:only-of-type {\n",
       "        vertical-align: middle;\n",
       "    }\n",
       "\n",
       "    .dataframe tbody tr th {\n",
       "        vertical-align: top;\n",
       "    }\n",
       "\n",
       "    .dataframe thead th {\n",
       "        text-align: right;\n",
       "    }\n",
       "</style>\n",
       "<table border=\"1\" class=\"dataframe\">\n",
       "  <thead>\n",
       "    <tr style=\"text-align: right;\">\n",
       "      <th></th>\n",
       "      <th>PROJECT_ID</th>\n",
       "      <th>ABSTRACT</th>\n",
       "      <th>FY</th>\n",
       "      <th>PROJECT_TERMS</th>\n",
       "      <th>PROJECT_TITLE</th>\n",
       "      <th>DEPARTMENT</th>\n",
       "      <th>AGENCY</th>\n",
       "      <th>IC_CENTER</th>\n",
       "      <th>PROJECT_NUMBER</th>\n",
       "      <th>PROJECT_START_DATE</th>\n",
       "      <th>...</th>\n",
       "      <th>ORGANIZATION_NAME</th>\n",
       "      <th>ORGANIZATION_CITY</th>\n",
       "      <th>ORGANIZATION_STATE</th>\n",
       "      <th>ORGANIZATION_ZIP</th>\n",
       "      <th>ORGANIZATION_COUNTRY</th>\n",
       "      <th>BUDGET_START_DATE</th>\n",
       "      <th>BUDGET_END_DATE</th>\n",
       "      <th>CFDA_CODE</th>\n",
       "      <th>FY_TOTAL_COST</th>\n",
       "      <th>FY_TOTAL_COST_SUB_PROJECTS</th>\n",
       "    </tr>\n",
       "  </thead>\n",
       "  <tbody>\n",
       "  </tbody>\n",
       "</table>\n",
       "<p>0 rows × 25 columns</p>\n",
       "</div>"
      ],
      "text/plain": [
       "Empty DataFrame\n",
       "Columns: [PROJECT_ID, ABSTRACT, FY, PROJECT_TERMS, PROJECT_TITLE, DEPARTMENT, AGENCY, IC_CENTER, PROJECT_NUMBER, PROJECT_START_DATE, PROJECT_END_DATE, CONTACT_PI_PROJECT_LEADER, OTHER_PIS, CONGRESSIONAL_DISTRICT, DUNS_NUMBER, ORGANIZATION_NAME, ORGANIZATION_CITY, ORGANIZATION_STATE, ORGANIZATION_ZIP, ORGANIZATION_COUNTRY, BUDGET_START_DATE, BUDGET_END_DATE, CFDA_CODE, FY_TOTAL_COST, FY_TOTAL_COST_SUB_PROJECTS]\n",
       "Index: []\n",
       "\n",
       "[0 rows x 25 columns]"
      ]
     },
     "execution_count": 27,
     "metadata": {},
     "output_type": "execute_result"
    }
   ],
   "source": [
    "#There are no rows that are exactly the same.\n",
    "raw[raw.duplicated(subset=None, keep='first')]"
   ]
  },
  {
   "cell_type": "code",
   "execution_count": 28,
   "metadata": {},
   "outputs": [
    {
     "data": {
      "text/plain": [
       "3369"
      ]
     },
     "execution_count": 28,
     "metadata": {},
     "output_type": "execute_result"
    }
   ],
   "source": [
    "len(\n",
    "    raw[raw.duplicated(subset=['ABSTRACT', 'FY', 'PROJECT_TITLE', 'DEPARTMENT', 'AGENCY', 'PROJECT_TERMS',\n",
    "      'PROJECT_START_DATE', 'PROJECT_END_DATE', 'CONTACT_PI_PROJECT_LEADER', \n",
    "       'FY_TOTAL_COST', 'FY_TOTAL_COST_SUB_PROJECTS'], keep='first')]\n",
    ")"
   ]
  },
  {
   "cell_type": "code",
   "execution_count": null,
   "metadata": {},
   "outputs": [],
   "source": []
  },
  {
   "cell_type": "code",
   "execution_count": 29,
   "metadata": {},
   "outputs": [
    {
     "data": {
      "text/plain": [
       "6485"
      ]
     },
     "execution_count": 29,
     "metadata": {},
     "output_type": "execute_result"
    }
   ],
   "source": [
    "len(raw[raw.duplicated(subset=['PROJECT_NUMBER'], keep='last')]\n",
    "   )"
   ]
  },
  {
   "cell_type": "code",
   "execution_count": 30,
   "metadata": {},
   "outputs": [],
   "source": [
    "duplicates = raw[raw.duplicated(subset=['ABSTRACT',  'PROJECT_TITLE', #'DEPARTMENT', 'AGENCY', #'PROJECT_TERMS','FY',\n",
    "      'PROJECT_START_DATE', #'PROJECT_END_DATE', \n",
    "                            # 'ORGANIZATION_NAME',\n",
    "                             #'CONTACT_PI_PROJECT_LEADER', \n",
    "      # 'FY_TOTAL_COST', #'FY_TOTAL_COST_SUB_PROJECTS'\n",
    "                        ], keep='first')]"
   ]
  },
  {
   "cell_type": "code",
   "execution_count": 31,
   "metadata": {},
   "outputs": [
    {
     "data": {
      "text/plain": [
       "512292"
      ]
     },
     "execution_count": 31,
     "metadata": {},
     "output_type": "execute_result"
    }
   ],
   "source": [
    "len(duplicates)"
   ]
  },
  {
   "cell_type": "code",
   "execution_count": 32,
   "metadata": {},
   "outputs": [],
   "source": [
    "raw = raw.sort_values(['PROJECT_END_DATE'])"
   ]
  },
  {
   "cell_type": "code",
   "execution_count": 33,
   "metadata": {},
   "outputs": [],
   "source": [
    "dedup = raw[~raw.duplicated(subset=['ABSTRACT',  'PROJECT_TITLE', #'DEPARTMENT', 'AGENCY', #'PROJECT_TERMS','FY',\n",
    "      'PROJECT_START_DATE', #'PROJECT_END_DATE', \n",
    "                            # 'ORGANIZATION_NAME',\n",
    "                             #'CONTACT_PI_PROJECT_LEADER', \n",
    "      # 'FY_TOTAL_COST', #'FY_TOTAL_COST_SUB_PROJECTS'\n",
    "                        ], keep='last')]\n"
   ]
  },
  {
   "cell_type": "code",
   "execution_count": 34,
   "metadata": {},
   "outputs": [
    {
     "data": {
      "text/plain": [
       "643845"
      ]
     },
     "execution_count": 34,
     "metadata": {},
     "output_type": "execute_result"
    }
   ],
   "source": [
    "len(dedup)"
   ]
  },
  {
   "cell_type": "markdown",
   "metadata": {},
   "source": [
    "#### How many different organizations are there within each group of duplicate rows?"
   ]
  },
  {
   "cell_type": "code",
   "execution_count": 35,
   "metadata": {},
   "outputs": [
    {
     "data": {
      "text/plain": [
       "ABSTRACT                                                                                                                                                                                                                                                                                                                                                                                                                                                                                                                                                                                                                                                                                                                                                                                                                                                                                                                                                                                                                                                                                                                                                                                                                                                                                                                                                                                                                                                                                                                                                                                                                                                                                                                                                                                                                                                                                                                                                                                                                                                                                                                                                                                                                                                                                                                                                                                                                                                                                                                                                                                                                                                                                                                                                                                                                                                                                                                                                                                                                                                                                                                                                                                                                                                                                                                                                                                                                                                                                                                                      ORGANIZATION_NAME                   \n",
       "!  Project Summary: The goal of the CVM Vet-LRN Veterinary Diagnostic Laboratory #  Program is to complement, develop, and use university, state and federal veterinary $  diagnostic laboratory resources and expertise in order to increase national laboratory%  capacity to detect, respond to and recover from a catastrophic animal food/feed &  contamination event, either microbial or chemical. The program's funding would allow'  provision for equipment, supplies, and personnel; training in standardized testing (  methodologies; participation in proficiency testing in those methodologies; participation)  in method enhancement activities to extend analysis capability; and analysis of *  surveillance and emergency outbreak samples. Nationwide standardization of validated!+  laboratory tests, competent laboratory analysts, uniform laboratory quality systems, and!!  electronic communication of laboratory data are essential to the FDA's mission to protect!#  food safety and security nationwide with the ultimate goal of protecting public health. The!$  Washington Animal Disease Diagnostic Laboratory (WADDL) at Washington State!%  University is well positioned to effectively function as a regional laboratory in the CVM!&  Vet-LRN Veterinary Diagnostic Laboratory Program. Since 1974 WADDL has provided!'  full laboratory diagnostic services, including pathology, microbiology and toxicology, to!(  veterinarians and animal owners throughout the Pacific Northwest. WADDL actively!)  participates in multiple national laboratory networks (USDA-NAHLN, CDC-LRN) and is!*  well practiced in standardized methods, equipment, proficiency testing, and electronic#+  reporting. Furthermore, WADDL has a mature laboratory quality system based upon#!  international ISO 17025 laboratory standards, being fully accredited by the American##  Association of Veterinary Laboratory Diagnosticians laboratory accreditation program.#$  Finally, as a Select Agent approved laboratory, WADDL has didicated BSL-3 laboratory#%  space with personnel highly trained in maximal biosecurity procedures. Participation by#&  WSU-WADDL in the Vet-LRN Veterinary Diagnostic Laboratory Program would provide#'  FDA-CVM with increased laboratory capacity and capability in the Pacific Northwest#(  region of the USA in the event of animal food or drug related illnesses or other large#)  scale animal food/feed emergency events by leveraging current high quality, state#*  funded laboratory resources and expertise.                                                                                                                                                                                                                                                                                                                                                                                                                                                                                                                                                                                                                                                                                                                                                                                                                                                                                                                                                  WASHINGTON STATE UNIVERSITY             1.0\n",
       "! #$%#&'()*$+,-.#/'.0 1! 0/ '2)3# ,%.0 )45'-.6)7# -.6)8#99(,:;)))!!  #$$%&&'! ()%*+,-(.)!/0!Objective 1: Conduct population-based surveillance and research of Duchenne/Becker muscular dystrophyActivity 1.1. Examine data utility and quality of existing DBMD data set for public health practice. Participate with other MD STARnet sites through a new or existing committee to examine data quality issues associated with data collection, management and analysis of current MD STARnet data for DBMD.Activity 1.2. Provide information to CDC regarding site experiences with surveillance for DBMD as part of a CDC assessment of MD STARnet.Activity 1.3. Refine the number of clinical data variables collected on individuals who have DBMD to include a maximum of 75-100 variables that yield reliable, relevant information that informs public health practice.Activity 1.4. Conduct medical record abstraction of new and follow-up DBMD cases using the reduced number of variables during year 1 of the funding period.Activity 1.5. Design and conduct an interview to determine healthcare transition and other life stage issues affecting individuals with DBMD and their families.Objective 2: Design and implement population-based surveillance on seven additional muscular dystrophies(Myotonic, Congenital, Limb-Girdle, Emery-Dreifuss, Facioscapulohumeral, Distal, and Oculopharyngeal)Activity 2.1. Through assessment of the existing MD STARnet system, modify or develop: (a) Protocols for ascertaining cases; (b) Case definitions; (c) Data collection instruments to collect information on prevalence, demographics, healthcare coverage, and locations of care; (d) Comprehensive quality control procedures to address data quality issues associated with data collection, management and analysis.Activity 2.2. Develop or maintain partnerships with local clinics and stakeholdersActivity 2.3. Conduct medical record abstraction for seven additional muscular dystrophies once during Y2-Y3Objective 3: Assess methodology for conducting population-based surveillance for the nine muscular dystrophiesActivity 3.1. Under the leadership of the national coordinating center, collaborate with other sites to produce a summary report assessing the expansion of surveillance to other muscular dystrophies. The summary should include: (a) Methods used; (b) Lessons learned; (c) Strengths; (d) Challenges; (e) Costs; (f) Barriers; (g) Recommendations for conducting muscular dystrophy and rare disease surveillance programs.Objective 4: Analyze data, publish articles, and disseminate reports using information collected on MD STARnet from2002-2011Activity 4.1. Propose and lead a minimum of three manuscripts; extensively collaborate on three other manuscripts.Activity 4.2. Participate in at least one PI meeting per year in Atlanta, for investigators to present study findings.                                                                                                                                                                                                                                                                                                                                                                                                                                                                                                                                                                              UNIVERSITY OF ARIZONA                   1.0\n",
       "! ABSTRACTGenome-wide association studies have found 200 genetic loci associated with the inflammatory boweldiseases (IBD). With other colleagues, Dr. Hailiang Huang led the recent fine-mapping effort in theinternational IBD genetics consortium and convincingly mapped many of these disease associations to a smallset of variants with high causal probabilities. Despite that a lot of these fine-mapped causal variants are neargenes, few of them have well characterized functions. This four-year research plan is proposed to fill in thisknowledge gap by developing and employing novel statistical genetics methods and analyses to systematicallyunderstand the connection between tissue-specific gene regulation and IBD genetics.With the planned training and mentoring, Dr. Huang will develop novel methods to identify cis-regulatoryelements such as the expression quantitative trait loci and the splice quantitative trait loci using RNAsequencing. These methods take advantage of the allele specific information, but unlike existing methods, donot require the knowledge of phase. As a result, this study will identify previously missed cis-regulatory variantsthat are rare or distant to genes with limited linkage-disequilibrium for phasing. Epigenomic profiles will be usedto empirically identify tissues that the disease associated cis-regulatory elements are likely to function in. Loss-of-function variants disrupting transcript isoforms specific to the disease relevant tissues will also be integratedin the analysis.Furthermore, Dr. Huang will perform fine-mapping for IBD associations using a novel method that combinesindividuals genotyped and sequenced on various platforms, and leverages the distinct linkage-disequilibriumpatterns from worldwide populations. A Bayesian statistical method will be designed to understand theconnection between these fine-mapped IBD associations and tissue specific cis-regulatory elements identifiedin this proposal. Knowledge from these analyses will greatly improve our understanding of the non-codinggenome and their impact on IBD, and generate a short list of the best candidates, ranked with their causalprobabilities, for further functional studies. Novel methods designed in this study will also be implemented insoftware packages and made widely available to the community.Successful completion of this work will provide Dr. Huang in-depth training in IBD biology, the biology oftranscriptome and gene regulations. Dr. Huang will also gain practical experience with RNA sequencing,acquire skills and expertise in statistical genetics method development, and engage in professional and careerdevelopment activities including presentation, manuscript preparation and grant writing. The proposedresearch plan will lead to future projects in the non-coding genome and IBD genetics in which Dr. Huang willbe the principal investigator.                                                                                                                                                                                                                                                                                                                                                                                                                                                                                                                                               MASSACHUSETTS GENERAL HOSPITAL          1.0\n",
       "! Degenerative cerebellar ataxias affect as many as 1 in 5,000 people worldwide, commonly leading tosevere incoordination of gait, tremor, and falls. Current treatment options are not widely effective, and mostpatients are unable to experience substantial symptom relief. Additionally, the underlying electrophysiologicalchanges that drive symptoms are not fully understood. We aim to develop a novel therapeutic strategy in thecontext of a genetic rat model of degenerative cerebellar ataxia and use it as a research tool to clarify thenetwork changes that directly encode motor symptoms. Although etiologies vary, ranging from dozens ofhereditary forms to sporadic ataxias, most, if not all, feature widespread, progressive Purkinje cell loss,resulting in modified inputs relevant to motor control in the dentate nucleus. As the dorsal dentate nucleusrepresents the major motor cerebellar output, we propose to develop a deep brain stimulation-like therapeuticstrategy aimed at re-modulating dentate nucleus activity to reduce ataxic symptoms. We will carry out a pre-clinical test of deep cerebellar stimulation using the Wistar Furth shaker rat, which features progressivePurkinje cell loss, cerebellar tremor, profound incoordination of gait, and frequent falls. We have developednovel methodologies and software to automate the direct quantification of tremor, incoordination of gait, andfall rates in rats, and we have used them to rigorously quantify the progression of motor symptoms in ourmodel. We have additionally collected preliminary data to strongly support the efficacy of deep cerebellarstimulation in reducing each of tremor, incoordination, and frequency of falls. Further, the ability to quickly andeffectively modulate motor symptom severity will be a highly useful tool for electrophysiological study. Thus, wewill carry out two specific aims. First, we will optimize deep cerebellar stimulation of the dorsal dentate nucleus to treat tremor,incoordination, and falls in the Wistar Furth shaker rat model of degenerative cerebellar ataxia. Second, we will quantify the network properties that directly underlie motor symptoms in the shaker rat. Given that the loss of Purkinje cells disinhibits the dentate nucleus, one might expect their loss to resultin increased motor drive, given the excitatory nature of the dentatothalmocortical pathway. However,involuntary motor symptoms are not typically observed in ataxias, indicating that the study of patterning withindentate signaling is warranted. Indeed, we will expand on recent work that showed that irregularity in cerebellarsignaling is linked, and that deep cerebellar oscillations at frequencies specific to tremors cohere strongly withmotor acceleration during tremor. Using deep cerebellar stimulation as a research tool, we will test whetherirregularity and increased oscillatory power not only covary with motor symptoms, but directly encode them,using electrical stimulation to encode electrophysiological signals in wild type rats, testing the hypothesis thatmodifying patterning with high specificity can directly lead to ataxic symptoms.                                                                                                                                                                                                                                                                                          UNIVERSITY OF UTAH                      1.0\n",
       "! Program Director/Principal Investigator (Last, First, Middle): Martínez-Cerdeño, VerónicaAbstractFragile X-associated tremor/ataxia syndrome (FXTAS) pathology and anatomy: imaging and clinicalcorrelatesFXTAS is a late-onset neurodegenerative disorder associated with premutation alleles (55-200 CGG repeats)of the FMR1 gene. Larger expansions give rise to fragile X syndrome (FXS), the most common inherited formof cognitive impairment. The prevalence of premutation carriers in the general population (1: 400 males; 1: 200females), and the fact that up to 40% of carriers develop FXTAS, underscores the a high personal andeconomic burden for society. Despite its importance, the number of pathology reports on FXTAS patients iscurrently very limited. Particularly, comprehensive histopathological studies with clinical and imagingcorrelation of FXTAS patients do not exist and to the best of our knowledge we are the only research groupdedicated to study the pathology of FXTAS. Using our unique FXTAS brain repository, we will perform athorough histopathological analysis of ~70 FXTAS cases and correlate their pathology to their radiological,clinical and molecular history. We hypothesize that FXTAS is a microhemorrhage white matter disease - inaddition to a grey matter neurodegenerative disease as currently thought. Specifically, we propose thatinclusion-bearing endothelial cells in white matter fail to maintain capillary integrity, resulting in the release oferythrocytes that, upon breakdown, release iron. Iron accumulates in the capillaries and white matter tissueinducing activation of microglia and astrocytes, cytokine and chemokine release, high oxidative state and/ormitochondrial dysfunction, all leading to myelin loss and axonal degeneration. We also hypothesize highsignal (T2 hyper-intensities) regions in MRI correspond to white matter disease characterized bymicrohemorrhage, the presence astrocyte/microglia activation and iron deposition. Additionally, wehypothesize that the alteration of the pontocerebellar system is the main anatomical trait of FXTAS.We will determine if FXTAS is a micro-hemorrhage white matter disease (aim 1) by establishing the pathologyof FXTAS, the level of oxidative stress, and the hemorrhagic nature of MRI hyperintensities. We will alsodetermine if FXTAS presents with a chronic inflammatory state (aim 2) by evaluating if astrocytes and microgliaare activated and if there is an increase in the levels of cytokines and chemokines. We will test ifoligodendrocytes and Purkinje cells are the main cell population affected by cell death in FXTAS by performingquantification experiments for specific neural types. We will also investigate if the alteration of thepontocerebellar system is the main anatomical trait of FXTAS (aim 3). To do so we will verify the presence ofintranuclear inclusions, determine level of atrophy in the brain areas associated with the pontocerebellarsystem, the anatomical distribution of the PC loss, and the number of fibers in the medial cerebellar peduncleand corpus callosum.The knowledge gained from this project will be a tremendous advance in the understanding of FXTAS andcould change future treatments to address microhemorrhages and inflammation in FXTAS.                                                                                                                                                           UNIVERSITY OF CALIFORNIA DAVIS          1.0\n",
       "                                                                                                                                                                                                                                                                                                                                                                                                                                                                                                                                                                                                                                                                                                                                                                                                                                                                                                                                                                                                                                                                                                                                                                                                                                                                                                                                                                                                                                                                                                                                                                                                                                                                                                                                                                                                                                                                                                                                                                                                                                                                                                                                                                                                                                                                                                                                                                                                                                                                                                                                                                                                                                                                                                                                                                                                                                                                                                                                                                                                                                                                                                                                                                                                                                                                                                                                                                                                                                                                                                                                                                                     ... \n",
       "﻿PROJECT SUMMARYThe essence of cognition is choice, and to understand choice we need to understand the brain mechanisms that guide decisions in complex settings. These mechanisms are implemented through interactions of large neural networks across cortical and subcortical areas. Tracking population response dynamics on single trials and relating them to internal cognitive states and overt behavior are critical for incisive tests of current models of decision-making. Here we propose to characterize the activity patterns of large populations of neurons (100+) in the prefrontal cortex of macaque monkeys engaged in decision-making tasks. We will explain the spatiotemporal patterns of activation in the population by developing the most parsimonious probabilistic model that takes into account pairwise and higher-order interactions of neurons. The model will be utilized to characterize response manifolds of the network and quantify its dynamics in different task epochs. Our approach is unique because rather than trying to embed the population dynamics in a low dimensional manifold using Machine Learning tools, we propose to extend the Maximum Entropy framework to directly capture the high-dimensional dynamics. Further, by characterizing functional dependencies among cells we can map the architecture and design of large networks in terms of subnetwork motifs and computations. Finally, we will investigate how noisy fluctuations of responses or artificial manipulation of network activity influences its dynamics and modifies or disturbs its computations. Scrutinizing the results of these experiments within our modeling framework makes headway toward addressing long-standing questions about decision-making, including the neural basis of psychological models and effects of initial state on the behavior.Our work will have broader impacts in two domains. First, the path that we will chart for discovering functional subnetworks and their computations will be useable in various subfields of neuroscience. We will significantly advance data analysis and computational modeling tools available to neuroscientists and, therefore, will facilitate future studies of normal mental functions and mental disorders using high-dimensional neural data. Second, characterizing information encoding and response dynamics in the prefrontal cortex sheds light on mechanisms of decision-making and emergence of cognitive abilities in complex neural networks. Deficits of decision-making are at the heart of a number of neurological and psychiatric disorders including schizophrenia, Alzheimer's, and Parkinson's disease. Several behavioral and pharmacological therapies have been proposed for those deficits, but we lack a clear understanding of how they work at the level of neuronal systems. To develop the next generation of therapies, we need to understand how cognitive processes emerge across multiple functional levels, from individual neurons to networks of brain areas. Our work is a step in that direction. It has the potential to advance our understanding of pathology of mental disorders and help with the discovery of better treatments.                                                                                                                                                                                                                                                               NEW YORK UNIVERSITY                     1.0\n",
       "﻿Project Summary The roughly two meters of DNA in the human genome is intricately packaged to form the chromatin and chromosomes in each cell nucleus. In addition to its structural role, this organization has critical regulatory functions. In particular, the formation of hubs in the human genome plays an essential role in regulating genes in different cell types. We recently demonstrated the ability to create reliable maps of loops, using an in situ Hi-C method for three-dimensional genome sequencing. Hi-C characterizes the three-dimensional configuration of the genome by determining the frequency of physical contact between all pairs of loci, genome-wide. The proposed project will develop more sophisticated technologies that can identify not only loops - which involve a pair of genomic positions - but hubs, which can involve many interacting DNA positions (often five or more such positions). We will examine the dynamics of these hubs in the setting of differentiating embryonic stem (ES) cells in humans and mice. Aim 1 will develop COLA, a variant of the in situ Hi-C protocol that can identify contacts between large numbers of loci at once in intact nuclei. Aim 2 will develop split-pool barcoding, which can identify contacts between unlimited numbers of loci, but which requires disruption of the nucleus. The results of both methods will be integrated and compared to one another and, in Aim 3, will be independently validated using microscopy. The proposed project will advance our understanding of the determinants and functions of chromatin hubs, and present a technological framework for comprehensive analysis of higher-order genome structure in any cell type. All methods and data will be freely and rapidly released to the scientific community.                                                                                                                                                                                                                                                                                                                                                                                                                                                                                                                                                                                                                                                                                                                                                                                                                                                                                                                                                                                                                                                                                                                                                                                                                                                                                                                                                                                                                                                                                                                                                                                                                                                                                                  BAYLOR COLLEGE OF MEDICINE              1.0\n",
       "﻿R01AT008573Lembo, Anthony (contact PI)Project Summary/AbstractIrritable bowel syndrome (IBS) affects 7-15% of the population in North America and results in high health care utilization costs. Despite the heavy disease burden of IBS, few therapies have been proven safe and widely effective. In a previous large (N=262) randomized controlled trial (RCT), our team showed that IBS can be successfully treated with blinded placebo. Our team has also shown in a recent RCT (N=80) that open-label placebo pills can result in statistically and clinically significant improvements in IBS symptoms compared to a no treatment control group.  Furthermore, we recently completed a survey of 853 patients and found that >60% would be willing to be treated for chronic abdominal pain with open-label placebo. To follow up on these studies, the current application seeks to determine whether blinding (i.e., open-label vs. double-blind) affects the efficacy of placebo compared to no treatment control. We propose a 6-week RCT with 280 IBS patients on standard treatment for IBS who will be randomly assigned to one of five arms (A) open-label placebo (n=70),(B) double-blind placebo (n=70), (C) open-label peppermint oil (n=35), (D) double-blind peppermint oil (n=35), and (E) no treatment control (n=70). Groups A, B, C, and D comprise a 2x2 factorial design, to which we have added a no treatment control (E).  Given that the study primarily concerns placebo effects and peppermint oil is being used as a control, patients will be assigned to placebo vs peppermint in a 2:1 ratio. This design will allow us to examine a number of questions in the treatment of IBS that are critical to both practice and research design, including: (1) Is open-label placebo more effective than no treatment control? (2) Are open-label treatments more effective than double-blind treatments? Secondary questions include: 1) Does the difference in abdominal cramps, a symptom associated with IBS, between peppermint oil and placebo vary depending on whether treatments are delivered open-label or double-blind?; (2) Confirming our previous findings that the COMT val158met polymorphisms predict placebo response in IBS; (3) Replicating our previous finding that the psychological traits of extraversion, agreeableness, and openness are associated with placebo response in IBS. We will also perform a nested “in-depth” qualitative study (N=50) to assess patients’ experiences.                                                                                                                                                                                                                                                                                                                                                                                                                                                                                                                                                                                                                                                                                                                                                                                                                                                                                                                                                                                               BETH ISRAEL DEACONESS MEDICAL CENTER    1.0\n",
       "﻿REVISED  ABSTRACT requested for 1U01MH106660 - 01A1  PI Name: JOHNSON, JENNIFER E  There were nearly 12 million admissions to US jails in 2012.  Jailed individuals face a disproportionate risk for suicide. The time of arrest and jail detention represents an acute stressor that further exacerbates this risk. The epidemic of suicide during jail detention has been recognized. However, less attention has been paid to the high suicide risk and mortality in the months following jail release, as individuals re-enter their communities, are faced with financial, legal, and social stressors, and have increased access to lethal means. Given that roughly 10% of all suicides in the U.S. with known circumstances occur following a recent criminal legal stressor (often arrest and jail detention), reducing suicide risk in the year after jail detention  could have a noticeable impact on national suicide rates. Unlike prison, where individuals have already been sentenced and typically stay from months to years, most pretrial jail detainees are released within days. Therefore, brief interventions are required. Stanley and Brown’s Safety Planning Intervention (SPI) is a brief, adjunctive suicide risk reduction intervention developed for suicidal patients presenting to urgent care settings. SPI incorporates evidence-based suicide  risk reduction strategies in a low intensity, low cost intervention that can be delivered by a broad range of clinicians, making it scalable in the mental health resource-poor justice system. SPI reduces subsequent suicidal ideation and attempts among at-risk individuals in emergency rooms. However, there is no previous test of this intervention (or any other) for reducing suicide risk following jail release. This RCT – the Suicide Prevention Intervention for at-Risk Individuals in Transition (SPIRIT) – evaluates the effectiveness and cost-effectiveness of SPI for reducing suicide events (attempts, suicide behaviors, and suicide-related hospitalizations and emergency department visits) and attempts among 800 suicidal pretrial jail detainees from two jails in the year following jail release. It assesses critical mechanisms of suicide reduction in our target population: treatment utilization, suicide-related problem-solving, and belongingness. SPI will consist of safety planning during jail detention and follow-up phone sessions after jail release.Research with previously incarcerated individuals and with suicidal individuals in the community has shown that telephone follow-up intervention is feasible and powerful in building trust and reducing risk among these disenfranchised, isolated populations. This study will be the first randomized evaluation of a suicide prevention intervention in the vulnerable year after jail release. Beyond the human suffering and costs at an individual level, suicidal behavior incurs high economic costs in terms of health care costs and lost productivity. Jails are a catchment area for at-risk individuals at a time of high life stress and high suicide risk, providing an important opportunity for intervention, one that is currently being missed. This study will provide the data on costs and cost-adjusted outcomes that systems need to make informed decisions about adoption, speeding implementation. Thus, the study will contribute to knowledge about both mechanisms of action and system-level intervention effects.  MICHIGAN STATE UNIVERSITY               1.0\n",
       "﻿Sensory cortex decomposes complex inputs into feature-based components, and distributes their representation over populations of neurons. In special cases this distribution is very clear--for instance the visual and auditory system respectively map retinal image and acoustic frequency along a spatial dimension within cortex. In general, however, rich sensory scenes are a mixture of features, and it remains unclear how the cortex mingles and segregates aspects of a complex sensory representation across neural populations.Olfactory stimuli are extraordinarily complex, with distinct odors comprised from a mixture of compounds. The circuitry in olfactory cortex is equally intricate, with populations of neurons coupling to one another with seemingly random rules, and receiving similarly random projections from lower centers. The combination of these two facts obfuscates the organization of odor representation. Our proposal leverages advances in experimental circuit identification and manipulation, as well as theoretical frameworks for large-scale cortical networks, to establish principles for the distribution of odor identity and concentration coding across olfactory cortex. Specifically, we aim to establish the following links between olfactory circuitry and odor coding:1 )There exists a graded distribution of specific inhibitory sub-circuits along the rostral-caudal axis of the olfactory cortex.2) The rostral-caudal distribution of inhibition interacts with Hebbian plasticity mechanisms so as to shape the odor selectivity of cells along the rostral-caudal axis.These advances will provide much needed insights into how cortical structures represent and process distinct aspects of an odor scene.                                                                                                                                                                                                                                                                                                                                                                                                                                                                                                                                                                                                                                                                                                                                                                                                                                                                                                                                                                                                                                                                                                                                                                                                                                                                                                                                                                                                                                                                                                                                                                                                                                                                                                                                                       THE UNIVERSITY OF PITTSBURGH            1.0\n",
       "Name: ORGANIZATION_NAME, Length: 236584, dtype: float64"
      ]
     },
     "execution_count": 35,
     "metadata": {},
     "output_type": "execute_result"
    }
   ],
   "source": [
    "duplicates.groupby('ABSTRACT')['ORGANIZATION_NAME'].value_counts('ORGANIZATION_NAME')"
   ]
  },
  {
   "cell_type": "code",
   "execution_count": null,
   "metadata": {},
   "outputs": [],
   "source": []
  },
  {
   "cell_type": "code",
   "execution_count": null,
   "metadata": {},
   "outputs": [],
   "source": []
  },
  {
   "cell_type": "markdown",
   "metadata": {},
   "source": [
    "## Null ABSTRACT values"
   ]
  },
  {
   "cell_type": "code",
   "execution_count": 36,
   "metadata": {},
   "outputs": [
    {
     "data": {
      "text/plain": [
       "42380"
      ]
     },
     "execution_count": 36,
     "metadata": {},
     "output_type": "execute_result"
    }
   ],
   "source": [
    "len(raw[raw.ABSTRACT.isnull()])"
   ]
  },
  {
   "cell_type": "code",
   "execution_count": 37,
   "metadata": {},
   "outputs": [
    {
     "data": {
      "text/plain": [
       "15131"
      ]
     },
     "execution_count": 37,
     "metadata": {},
     "output_type": "execute_result"
    }
   ],
   "source": [
    "len(dedup[dedup.ABSTRACT.isnull()])"
   ]
  },
  {
   "cell_type": "code",
   "execution_count": 38,
   "metadata": {},
   "outputs": [
    {
     "data": {
      "text/plain": [
       "0"
      ]
     },
     "execution_count": 38,
     "metadata": {},
     "output_type": "execute_result"
    }
   ],
   "source": [
    "len(raw[raw.PROJECT_TITLE.isnull()])"
   ]
  },
  {
   "cell_type": "code",
   "execution_count": 39,
   "metadata": {},
   "outputs": [],
   "source": [
    "# create df as dedup, dropping NAN abstracts\n",
    "df = dedup[~dedup.ABSTRACT.isnull()]"
   ]
  },
  {
   "cell_type": "code",
   "execution_count": 40,
   "metadata": {},
   "outputs": [
    {
     "data": {
      "text/plain": [
       "628714"
      ]
     },
     "execution_count": 40,
     "metadata": {},
     "output_type": "execute_result"
    }
   ],
   "source": [
    "len(df)"
   ]
  },
  {
   "cell_type": "code",
   "execution_count": 41,
   "metadata": {},
   "outputs": [
    {
     "data": {
      "text/html": [
       "<div>\n",
       "<style scoped>\n",
       "    .dataframe tbody tr th:only-of-type {\n",
       "        vertical-align: middle;\n",
       "    }\n",
       "\n",
       "    .dataframe tbody tr th {\n",
       "        vertical-align: top;\n",
       "    }\n",
       "\n",
       "    .dataframe thead th {\n",
       "        text-align: right;\n",
       "    }\n",
       "</style>\n",
       "<table border=\"1\" class=\"dataframe\">\n",
       "  <thead>\n",
       "    <tr style=\"text-align: right;\">\n",
       "      <th></th>\n",
       "      <th>PROJECT_ID</th>\n",
       "      <th>ABSTRACT</th>\n",
       "      <th>FY</th>\n",
       "      <th>PROJECT_TERMS</th>\n",
       "      <th>PROJECT_TITLE</th>\n",
       "      <th>DEPARTMENT</th>\n",
       "      <th>AGENCY</th>\n",
       "      <th>IC_CENTER</th>\n",
       "      <th>PROJECT_NUMBER</th>\n",
       "      <th>PROJECT_START_DATE</th>\n",
       "      <th>...</th>\n",
       "      <th>ORGANIZATION_NAME</th>\n",
       "      <th>ORGANIZATION_CITY</th>\n",
       "      <th>ORGANIZATION_STATE</th>\n",
       "      <th>ORGANIZATION_ZIP</th>\n",
       "      <th>ORGANIZATION_COUNTRY</th>\n",
       "      <th>BUDGET_START_DATE</th>\n",
       "      <th>BUDGET_END_DATE</th>\n",
       "      <th>CFDA_CODE</th>\n",
       "      <th>FY_TOTAL_COST</th>\n",
       "      <th>FY_TOTAL_COST_SUB_PROJECTS</th>\n",
       "    </tr>\n",
       "  </thead>\n",
       "  <tbody>\n",
       "  </tbody>\n",
       "</table>\n",
       "<p>0 rows × 25 columns</p>\n",
       "</div>"
      ],
      "text/plain": [
       "Empty DataFrame\n",
       "Columns: [PROJECT_ID, ABSTRACT, FY, PROJECT_TERMS, PROJECT_TITLE, DEPARTMENT, AGENCY, IC_CENTER, PROJECT_NUMBER, PROJECT_START_DATE, PROJECT_END_DATE, CONTACT_PI_PROJECT_LEADER, OTHER_PIS, CONGRESSIONAL_DISTRICT, DUNS_NUMBER, ORGANIZATION_NAME, ORGANIZATION_CITY, ORGANIZATION_STATE, ORGANIZATION_ZIP, ORGANIZATION_COUNTRY, BUDGET_START_DATE, BUDGET_END_DATE, CFDA_CODE, FY_TOTAL_COST, FY_TOTAL_COST_SUB_PROJECTS]\n",
       "Index: []\n",
       "\n",
       "[0 rows x 25 columns]"
      ]
     },
     "execution_count": 41,
     "metadata": {},
     "output_type": "execute_result"
    }
   ],
   "source": [
    "df[df.ABSTRACT == '']"
   ]
  },
  {
   "cell_type": "code",
   "execution_count": 42,
   "metadata": {},
   "outputs": [
    {
     "data": {
      "text/plain": [
       "628066"
      ]
     },
     "execution_count": 42,
     "metadata": {},
     "output_type": "execute_result"
    }
   ],
   "source": [
    "# drop abstracts with values of \"ABSTRACT NOT PROVIDED\" and \"No abstract provided \"\n",
    "df = df[df.ABSTRACT != 'ABSTRACT NOT PROVIDED']\n",
    "df = df[df.ABSTRACT != 'No abstract provided']\n",
    "len(df)"
   ]
  },
  {
   "cell_type": "code",
   "execution_count": null,
   "metadata": {},
   "outputs": [],
   "source": []
  },
  {
   "cell_type": "code",
   "execution_count": 43,
   "metadata": {},
   "outputs": [],
   "source": [
    "# Abstract w/ highest occurances in raw (2019) data\n",
    "common_raw = raw[raw.ABSTRACT == \"The Vaccine and Treatment Evaluation Units (VTEUs) are a consortium of individual contracts within academic centers and organizations that provide a ready resource for the design and conduct of clinical trials to evaluate promising vaccines and treatments for infectious disease. Investigations of novel product delivery systems and routes of delivery may also be conducted. In general, products will be evaluated in normal healthy populations; however, access to special populations is also available.\"]"
   ]
  },
  {
   "cell_type": "code",
   "execution_count": 44,
   "metadata": {},
   "outputs": [
    {
     "data": {
      "text/plain": [
       "258"
      ]
     },
     "execution_count": 44,
     "metadata": {},
     "output_type": "execute_result"
    }
   ],
   "source": [
    "len(common_raw)"
   ]
  },
  {
   "cell_type": "code",
   "execution_count": 45,
   "metadata": {},
   "outputs": [],
   "source": [
    "# Abstract w/ highest occurances in de-duplicated and -NAN  2019 data\n",
    "common_df = df[df.ABSTRACT == \"The Vaccine and Treatment Evaluation Units (VTEUs) are a consortium of individual contracts within academic centers and organizations that provide a ready resource for the design and conduct of clinical trials to evaluate promising vaccines and treatments for infectious disease. Investigations of novel product delivery systems and routes of delivery may also be conducted. In general, products will be evaluated in normal healthy populations; however, access to special populations is also available.\"]"
   ]
  },
  {
   "cell_type": "code",
   "execution_count": 46,
   "metadata": {},
   "outputs": [
    {
     "data": {
      "text/plain": [
       "86"
      ]
     },
     "execution_count": 46,
     "metadata": {},
     "output_type": "execute_result"
    }
   ],
   "source": [
    "len(common_df)"
   ]
  },
  {
   "cell_type": "code",
   "execution_count": 47,
   "metadata": {},
   "outputs": [
    {
     "data": {
      "text/html": [
       "<div>\n",
       "<style scoped>\n",
       "    .dataframe tbody tr th:only-of-type {\n",
       "        vertical-align: middle;\n",
       "    }\n",
       "\n",
       "    .dataframe tbody tr th {\n",
       "        vertical-align: top;\n",
       "    }\n",
       "\n",
       "    .dataframe thead th {\n",
       "        text-align: right;\n",
       "    }\n",
       "</style>\n",
       "<table border=\"1\" class=\"dataframe\">\n",
       "  <thead>\n",
       "    <tr style=\"text-align: right;\">\n",
       "      <th></th>\n",
       "      <th>FY</th>\n",
       "      <th>FY_TOTAL_COST</th>\n",
       "      <th>CONTACT_PI_PROJECT_LEADER</th>\n",
       "      <th>PROJECT_TITLE</th>\n",
       "      <th>PROJECT_START_DATE</th>\n",
       "      <th>PROJECT_END_DATE</th>\n",
       "    </tr>\n",
       "  </thead>\n",
       "  <tbody>\n",
       "    <tr>\n",
       "      <td>762148</td>\n",
       "      <td>2015.0</td>\n",
       "      <td>244997.0</td>\n",
       "      <td>WINOKUR, PATRICIA</td>\n",
       "      <td>PHASE I TRIAL OF YELLOW FEVER VIRUS VACCINES -...</td>\n",
       "      <td>7/1/2015</td>\n",
       "      <td>1/1/2017</td>\n",
       "    </tr>\n",
       "    <tr>\n",
       "      <td>818679</td>\n",
       "      <td>2016.0</td>\n",
       "      <td>1180154.0</td>\n",
       "      <td>EL SAHLY, HANA</td>\n",
       "      <td>A PROSPECTIVE NATURAL HISTORY STUDY OF US PATI...</td>\n",
       "      <td>4/13/2016</td>\n",
       "      <td>1/11/2020</td>\n",
       "    </tr>\n",
       "    <tr>\n",
       "      <td>778015</td>\n",
       "      <td>2016.0</td>\n",
       "      <td>364065.0</td>\n",
       "      <td>NAGGIE, SUSANNA</td>\n",
       "      <td>PHASE IV CLINICAL TRIAL IN ADULTS WITH COMMUNI...</td>\n",
       "      <td>6/10/2015</td>\n",
       "      <td>1/15/2021</td>\n",
       "    </tr>\n",
       "    <tr>\n",
       "      <td>765530</td>\n",
       "      <td>2015.0</td>\n",
       "      <td>5057627.0</td>\n",
       "      <td>NAGGIE, SUSANNA</td>\n",
       "      <td>PHASE IV CLINICAL TRIAL IN ADULTS WITH COMMUNI...</td>\n",
       "      <td>6/10/2015</td>\n",
       "      <td>1/15/2021</td>\n",
       "    </tr>\n",
       "    <tr>\n",
       "      <td>760932</td>\n",
       "      <td>2015.0</td>\n",
       "      <td>212465.0</td>\n",
       "      <td>KOTLOFF, KAREN L.</td>\n",
       "      <td>PHASE II TRIAL OF MENINGOCOCCAL VACCINES IN PR...</td>\n",
       "      <td>4/20/2015</td>\n",
       "      <td>1/31/2016</td>\n",
       "    </tr>\n",
       "    <tr>\n",
       "      <td>...</td>\n",
       "      <td>...</td>\n",
       "      <td>...</td>\n",
       "      <td>...</td>\n",
       "      <td>...</td>\n",
       "      <td>...</td>\n",
       "      <td>...</td>\n",
       "    </tr>\n",
       "    <tr>\n",
       "      <td>674126</td>\n",
       "      <td>2014.0</td>\n",
       "      <td>NaN</td>\n",
       "      <td>EDWARDS, KATHRYN MARGARET</td>\n",
       "      <td>VACCINE AND TREATMENT EVALUATION UNITS</td>\n",
       "      <td>11/1/2007</td>\n",
       "      <td>9/18/2015</td>\n",
       "    </tr>\n",
       "    <tr>\n",
       "      <td>870544</td>\n",
       "      <td>2017.0</td>\n",
       "      <td>312232.0</td>\n",
       "      <td>BERNSTIEN, DAVID</td>\n",
       "      <td>VACCINE AND TREATMENT EVALUATION UNITS: PHASE ...</td>\n",
       "      <td>11/1/2007</td>\n",
       "      <td>9/30/2017</td>\n",
       "    </tr>\n",
       "    <tr>\n",
       "      <td>948253</td>\n",
       "      <td>2018.0</td>\n",
       "      <td>186478.0</td>\n",
       "      <td>MULLIGAN, MARK</td>\n",
       "      <td>VACCINE AND TREATMENT EVALUATION UNITS: PHASE ...</td>\n",
       "      <td>7/1/2015</td>\n",
       "      <td>9/30/2018</td>\n",
       "    </tr>\n",
       "    <tr>\n",
       "      <td>830336</td>\n",
       "      <td>2016.0</td>\n",
       "      <td>4825191.0</td>\n",
       "      <td>EDWARDS, KATHRYN MARGARET</td>\n",
       "      <td>VTEU: PHASE I INFLUENZA VACCINE CLINICAL TRIAL</td>\n",
       "      <td>11/15/2015</td>\n",
       "      <td>9/30/2018</td>\n",
       "    </tr>\n",
       "    <tr>\n",
       "      <td>924753</td>\n",
       "      <td>2017.0</td>\n",
       "      <td>1360130.0</td>\n",
       "      <td>MULLIGAN, MARK</td>\n",
       "      <td>VACCINE AND TREATMENT EVALUATION UNIT: ASSAY W...</td>\n",
       "      <td>9/15/2015</td>\n",
       "      <td>9/5/2017</td>\n",
       "    </tr>\n",
       "  </tbody>\n",
       "</table>\n",
       "<p>258 rows × 6 columns</p>\n",
       "</div>"
      ],
      "text/plain": [
       "            FY  FY_TOTAL_COST  CONTACT_PI_PROJECT_LEADER  \\\n",
       "762148  2015.0       244997.0          WINOKUR, PATRICIA   \n",
       "818679  2016.0      1180154.0             EL SAHLY, HANA   \n",
       "778015  2016.0       364065.0            NAGGIE, SUSANNA   \n",
       "765530  2015.0      5057627.0            NAGGIE, SUSANNA   \n",
       "760932  2015.0       212465.0          KOTLOFF, KAREN L.   \n",
       "...        ...            ...                        ...   \n",
       "674126  2014.0            NaN  EDWARDS, KATHRYN MARGARET   \n",
       "870544  2017.0       312232.0           BERNSTIEN, DAVID   \n",
       "948253  2018.0       186478.0             MULLIGAN, MARK   \n",
       "830336  2016.0      4825191.0  EDWARDS, KATHRYN MARGARET   \n",
       "924753  2017.0      1360130.0             MULLIGAN, MARK   \n",
       "\n",
       "                                            PROJECT_TITLE PROJECT_START_DATE  \\\n",
       "762148  PHASE I TRIAL OF YELLOW FEVER VIRUS VACCINES -...           7/1/2015   \n",
       "818679  A PROSPECTIVE NATURAL HISTORY STUDY OF US PATI...          4/13/2016   \n",
       "778015  PHASE IV CLINICAL TRIAL IN ADULTS WITH COMMUNI...          6/10/2015   \n",
       "765530  PHASE IV CLINICAL TRIAL IN ADULTS WITH COMMUNI...          6/10/2015   \n",
       "760932  PHASE II TRIAL OF MENINGOCOCCAL VACCINES IN PR...          4/20/2015   \n",
       "...                                                   ...                ...   \n",
       "674126             VACCINE AND TREATMENT EVALUATION UNITS          11/1/2007   \n",
       "870544  VACCINE AND TREATMENT EVALUATION UNITS: PHASE ...          11/1/2007   \n",
       "948253  VACCINE AND TREATMENT EVALUATION UNITS: PHASE ...           7/1/2015   \n",
       "830336     VTEU: PHASE I INFLUENZA VACCINE CLINICAL TRIAL         11/15/2015   \n",
       "924753  VACCINE AND TREATMENT EVALUATION UNIT: ASSAY W...          9/15/2015   \n",
       "\n",
       "       PROJECT_END_DATE  \n",
       "762148         1/1/2017  \n",
       "818679        1/11/2020  \n",
       "778015        1/15/2021  \n",
       "765530        1/15/2021  \n",
       "760932        1/31/2016  \n",
       "...                 ...  \n",
       "674126        9/18/2015  \n",
       "870544        9/30/2017  \n",
       "948253        9/30/2018  \n",
       "830336        9/30/2018  \n",
       "924753         9/5/2017  \n",
       "\n",
       "[258 rows x 6 columns]"
      ]
     },
     "execution_count": 47,
     "metadata": {},
     "output_type": "execute_result"
    }
   ],
   "source": [
    "# High Count Abstract in raw 2019 data\n",
    "\n",
    "common_raw[['FY', 'FY_TOTAL_COST', 'CONTACT_PI_PROJECT_LEADER', 'PROJECT_TITLE', 'PROJECT_START_DATE', 'PROJECT_END_DATE']]#.sort_values()"
   ]
  },
  {
   "cell_type": "code",
   "execution_count": 48,
   "metadata": {},
   "outputs": [
    {
     "data": {
      "text/html": [
       "<div>\n",
       "<style scoped>\n",
       "    .dataframe tbody tr th:only-of-type {\n",
       "        vertical-align: middle;\n",
       "    }\n",
       "\n",
       "    .dataframe tbody tr th {\n",
       "        vertical-align: top;\n",
       "    }\n",
       "\n",
       "    .dataframe thead th {\n",
       "        text-align: right;\n",
       "    }\n",
       "</style>\n",
       "<table border=\"1\" class=\"dataframe\">\n",
       "  <thead>\n",
       "    <tr style=\"text-align: right;\">\n",
       "      <th></th>\n",
       "      <th>FY</th>\n",
       "      <th>FY_TOTAL_COST</th>\n",
       "      <th>CONTACT_PI_PROJECT_LEADER</th>\n",
       "      <th>PROJECT_TITLE</th>\n",
       "      <th>PROJECT_START_DATE</th>\n",
       "      <th>PROJECT_END_DATE</th>\n",
       "    </tr>\n",
       "  </thead>\n",
       "  <tbody>\n",
       "    <tr>\n",
       "      <td>818679</td>\n",
       "      <td>2016.0</td>\n",
       "      <td>1180154.0</td>\n",
       "      <td>EL SAHLY, HANA</td>\n",
       "      <td>A PROSPECTIVE NATURAL HISTORY STUDY OF US PATI...</td>\n",
       "      <td>4/13/2016</td>\n",
       "      <td>1/11/2020</td>\n",
       "    </tr>\n",
       "    <tr>\n",
       "      <td>765530</td>\n",
       "      <td>2015.0</td>\n",
       "      <td>5057627.0</td>\n",
       "      <td>NAGGIE, SUSANNA</td>\n",
       "      <td>PHASE IV CLINICAL TRIAL IN ADULTS WITH COMMUNI...</td>\n",
       "      <td>6/10/2015</td>\n",
       "      <td>1/15/2021</td>\n",
       "    </tr>\n",
       "    <tr>\n",
       "      <td>781828</td>\n",
       "      <td>2016.0</td>\n",
       "      <td>53270.0</td>\n",
       "      <td>WINAKUR, PATRICIA</td>\n",
       "      <td>VTEU - CLINICAL TRIAL OPERATIONS SUPPORT</td>\n",
       "      <td>7/13/2015</td>\n",
       "      <td>10/1/2016</td>\n",
       "    </tr>\n",
       "    <tr>\n",
       "      <td>903391</td>\n",
       "      <td>2017.0</td>\n",
       "      <td>767273.0</td>\n",
       "      <td>HOFT, DANIEL</td>\n",
       "      <td>VACCINE AND TREATMENT EVALUATION UNIT: MALARIA...</td>\n",
       "      <td>9/15/2015</td>\n",
       "      <td>10/14/2018</td>\n",
       "    </tr>\n",
       "    <tr>\n",
       "      <td>965703</td>\n",
       "      <td>2018.0</td>\n",
       "      <td>391942.0</td>\n",
       "      <td>MULLIGAN, MARK</td>\n",
       "      <td>VACCINE AND TREATMENT EVALUATION UNIT: ASSAY W...</td>\n",
       "      <td>9/15/2015</td>\n",
       "      <td>10/23/2018</td>\n",
       "    </tr>\n",
       "    <tr>\n",
       "      <td>...</td>\n",
       "      <td>...</td>\n",
       "      <td>...</td>\n",
       "      <td>...</td>\n",
       "      <td>...</td>\n",
       "      <td>...</td>\n",
       "      <td>...</td>\n",
       "    </tr>\n",
       "    <tr>\n",
       "      <td>674126</td>\n",
       "      <td>2014.0</td>\n",
       "      <td>NaN</td>\n",
       "      <td>EDWARDS, KATHRYN MARGARET</td>\n",
       "      <td>VACCINE AND TREATMENT EVALUATION UNITS</td>\n",
       "      <td>11/1/2007</td>\n",
       "      <td>9/18/2015</td>\n",
       "    </tr>\n",
       "    <tr>\n",
       "      <td>870544</td>\n",
       "      <td>2017.0</td>\n",
       "      <td>312232.0</td>\n",
       "      <td>BERNSTIEN, DAVID</td>\n",
       "      <td>VACCINE AND TREATMENT EVALUATION UNITS: PHASE ...</td>\n",
       "      <td>11/1/2007</td>\n",
       "      <td>9/30/2017</td>\n",
       "    </tr>\n",
       "    <tr>\n",
       "      <td>948253</td>\n",
       "      <td>2018.0</td>\n",
       "      <td>186478.0</td>\n",
       "      <td>MULLIGAN, MARK</td>\n",
       "      <td>VACCINE AND TREATMENT EVALUATION UNITS: PHASE ...</td>\n",
       "      <td>7/1/2015</td>\n",
       "      <td>9/30/2018</td>\n",
       "    </tr>\n",
       "    <tr>\n",
       "      <td>830336</td>\n",
       "      <td>2016.0</td>\n",
       "      <td>4825191.0</td>\n",
       "      <td>EDWARDS, KATHRYN MARGARET</td>\n",
       "      <td>VTEU: PHASE I INFLUENZA VACCINE CLINICAL TRIAL</td>\n",
       "      <td>11/15/2015</td>\n",
       "      <td>9/30/2018</td>\n",
       "    </tr>\n",
       "    <tr>\n",
       "      <td>924753</td>\n",
       "      <td>2017.0</td>\n",
       "      <td>1360130.0</td>\n",
       "      <td>MULLIGAN, MARK</td>\n",
       "      <td>VACCINE AND TREATMENT EVALUATION UNIT: ASSAY W...</td>\n",
       "      <td>9/15/2015</td>\n",
       "      <td>9/5/2017</td>\n",
       "    </tr>\n",
       "  </tbody>\n",
       "</table>\n",
       "<p>86 rows × 6 columns</p>\n",
       "</div>"
      ],
      "text/plain": [
       "            FY  FY_TOTAL_COST  CONTACT_PI_PROJECT_LEADER  \\\n",
       "818679  2016.0      1180154.0             EL SAHLY, HANA   \n",
       "765530  2015.0      5057627.0            NAGGIE, SUSANNA   \n",
       "781828  2016.0        53270.0          WINAKUR, PATRICIA   \n",
       "903391  2017.0       767273.0               HOFT, DANIEL   \n",
       "965703  2018.0       391942.0             MULLIGAN, MARK   \n",
       "...        ...            ...                        ...   \n",
       "674126  2014.0            NaN  EDWARDS, KATHRYN MARGARET   \n",
       "870544  2017.0       312232.0           BERNSTIEN, DAVID   \n",
       "948253  2018.0       186478.0             MULLIGAN, MARK   \n",
       "830336  2016.0      4825191.0  EDWARDS, KATHRYN MARGARET   \n",
       "924753  2017.0      1360130.0             MULLIGAN, MARK   \n",
       "\n",
       "                                            PROJECT_TITLE PROJECT_START_DATE  \\\n",
       "818679  A PROSPECTIVE NATURAL HISTORY STUDY OF US PATI...          4/13/2016   \n",
       "765530  PHASE IV CLINICAL TRIAL IN ADULTS WITH COMMUNI...          6/10/2015   \n",
       "781828           VTEU - CLINICAL TRIAL OPERATIONS SUPPORT          7/13/2015   \n",
       "903391  VACCINE AND TREATMENT EVALUATION UNIT: MALARIA...          9/15/2015   \n",
       "965703  VACCINE AND TREATMENT EVALUATION UNIT: ASSAY W...          9/15/2015   \n",
       "...                                                   ...                ...   \n",
       "674126             VACCINE AND TREATMENT EVALUATION UNITS          11/1/2007   \n",
       "870544  VACCINE AND TREATMENT EVALUATION UNITS: PHASE ...          11/1/2007   \n",
       "948253  VACCINE AND TREATMENT EVALUATION UNITS: PHASE ...           7/1/2015   \n",
       "830336     VTEU: PHASE I INFLUENZA VACCINE CLINICAL TRIAL         11/15/2015   \n",
       "924753  VACCINE AND TREATMENT EVALUATION UNIT: ASSAY W...          9/15/2015   \n",
       "\n",
       "       PROJECT_END_DATE  \n",
       "818679        1/11/2020  \n",
       "765530        1/15/2021  \n",
       "781828        10/1/2016  \n",
       "903391       10/14/2018  \n",
       "965703       10/23/2018  \n",
       "...                 ...  \n",
       "674126        9/18/2015  \n",
       "870544        9/30/2017  \n",
       "948253        9/30/2018  \n",
       "830336        9/30/2018  \n",
       "924753         9/5/2017  \n",
       "\n",
       "[86 rows x 6 columns]"
      ]
     },
     "execution_count": 48,
     "metadata": {},
     "output_type": "execute_result"
    }
   ],
   "source": [
    "# Abstract w/ highest occurances in de-duplicated and -NAN  2019 data\n",
    "common_df[['FY', 'FY_TOTAL_COST', 'CONTACT_PI_PROJECT_LEADER', 'PROJECT_TITLE', 'PROJECT_START_DATE', 'PROJECT_END_DATE']]#.sort_values()"
   ]
  },
  {
   "cell_type": "code",
   "execution_count": null,
   "metadata": {},
   "outputs": [],
   "source": []
  },
  {
   "cell_type": "code",
   "execution_count": 49,
   "metadata": {},
   "outputs": [],
   "source": [
    "#Abstract w/ only 2 occurances in raw 2019 data\n",
    "less_common_raw = raw[raw.ABSTRACT == \"DESCRIPTION (provided by applicant):  The proposed research is designed to develop and test a novel mouse model for in vivo target validation studies relevant to neurodegenerative diseases. This model would permit regulatable silencing of disease- relevant genes via RNA interference (RNAi). The development of safe and effective therapies for human disease requires extensive preclinical data on the effects of altered expression and/or activity of specific gene products on disease pathogenesis in experimentally tractable model systems. In recent years, RNAi techniques have greatly expanded the repertoire of reverse genetic approaches available for studies of potential therapeutic targets in vivo. RNAi is a powerful tool for experimental manipulation of gene expression and can be used to assess the impact of inhibiting target gene products on the initiation and maintenance of disease in mouse models. The primary goal of this project is to generate a flexible system that permits regulatable RNAi-mediated gene silencing in vivo and to use this system to evaluate the therapeutic potential of gene knockdown approaches for the treatment of dominantly inherited amyotrophic lateral sclerosis (ALS). Approximately 20% of familial ALS (FALS) cases are caused by mutations in Cu, Zn superoxide dismutase (SOD1). Overwhelming evidence implicates novel toxic function(s) of the mutant protein as the cause of disease; for this reason, mutant SOD1 itself is a key therapeutic target for familial FALS. The regulatable RNAi vector generated in the first part of this project will be used to establish transgenic mice in which mutant SOD1 expression can be shut down upon treatment of animals with doxycycline. These experiments will assess whether inducing RNAi-mediated silencing of mutant SOD1 in the early stages of pathogenesis will slow the progression of disease. Earlier studies have demonstrated that constitutive expression, beginning prenatally, of small RNAs targeting mutant SOD1 could ameliorate disease in an ALS mouse model. To date, however, there are no mouse models of ALS that permit temporal regulation of mutant SOD1 protein levels. Given the uniformly rapid progression of ALS in affected individuals, it is critical to determine whether a reduction of mutant protein levels would be beneficial if achieved at the onset of disease symptoms. The proposed experiments are designed directly to determine at what point, during the life of an animal engineered to develop motor neuron disease, a reduction in the amount of mutant SOD1 protein will provide a significant therapeutic benefit. The results of this study will aid in establishing an appropriate window for applying agents aimed at reducing mutant protein levels in mutant SOD1-mediated ALS and will provide key data regarding the therapeutic potential of RNAi-mediated gene silencing for the treatment of this devastating disease.    Public Health Relevance: The proposed studies are designed to develop a versatile tool that can be used to validate potential therapeutic targets for human neurodegenerative disorders, including amyotrophic lateral sclerosis (ALS), using mouse models of disease. The specific experiments described in this proposal will help to identify a therapeutic window in the disease course during which treatments for ALS would be most likely to succeed. These studies will provide critical data to aid in the development of effective therapies for familial ALS and will yield a novel reagent that can be readily adapted for use in future target validation efforts.\"]"
   ]
  },
  {
   "cell_type": "code",
   "execution_count": 50,
   "metadata": {},
   "outputs": [
    {
     "data": {
      "text/html": [
       "<div>\n",
       "<style scoped>\n",
       "    .dataframe tbody tr th:only-of-type {\n",
       "        vertical-align: middle;\n",
       "    }\n",
       "\n",
       "    .dataframe tbody tr th {\n",
       "        vertical-align: top;\n",
       "    }\n",
       "\n",
       "    .dataframe thead th {\n",
       "        text-align: right;\n",
       "    }\n",
       "</style>\n",
       "<table border=\"1\" class=\"dataframe\">\n",
       "  <thead>\n",
       "    <tr style=\"text-align: right;\">\n",
       "      <th></th>\n",
       "      <th>FY</th>\n",
       "      <th>FY_TOTAL_COST</th>\n",
       "      <th>CONTACT_PI_PROJECT_LEADER</th>\n",
       "      <th>PROJECT_TITLE</th>\n",
       "      <th>PROJECT_START_DATE</th>\n",
       "      <th>PROJECT_END_DATE</th>\n",
       "    </tr>\n",
       "  </thead>\n",
       "  <tbody>\n",
       "    <tr>\n",
       "      <td>67353</td>\n",
       "      <td>2008.0</td>\n",
       "      <td>220927.0</td>\n",
       "      <td>MAXWELL, MICHELE M</td>\n",
       "      <td>TARGET VALIDATION FOR NEUROGENERATIVE DISEASE ...</td>\n",
       "      <td>9/15/2008</td>\n",
       "      <td>2/28/2010</td>\n",
       "    </tr>\n",
       "    <tr>\n",
       "      <td>161389</td>\n",
       "      <td>2009.0</td>\n",
       "      <td>199643.0</td>\n",
       "      <td>MAXWELL, MICHELE M</td>\n",
       "      <td>TARGET VALIDATION FOR NEUROGENERATIVE DISEASE ...</td>\n",
       "      <td>9/15/2008</td>\n",
       "      <td>2/28/2011</td>\n",
       "    </tr>\n",
       "  </tbody>\n",
       "</table>\n",
       "</div>"
      ],
      "text/plain": [
       "            FY  FY_TOTAL_COST CONTACT_PI_PROJECT_LEADER  \\\n",
       "67353   2008.0       220927.0        MAXWELL, MICHELE M   \n",
       "161389  2009.0       199643.0        MAXWELL, MICHELE M   \n",
       "\n",
       "                                            PROJECT_TITLE PROJECT_START_DATE  \\\n",
       "67353   TARGET VALIDATION FOR NEUROGENERATIVE DISEASE ...          9/15/2008   \n",
       "161389  TARGET VALIDATION FOR NEUROGENERATIVE DISEASE ...          9/15/2008   \n",
       "\n",
       "       PROJECT_END_DATE  \n",
       "67353         2/28/2010  \n",
       "161389        2/28/2011  "
      ]
     },
     "execution_count": 50,
     "metadata": {},
     "output_type": "execute_result"
    }
   ],
   "source": [
    "less_common_raw[['FY', 'FY_TOTAL_COST', 'CONTACT_PI_PROJECT_LEADER', 'PROJECT_TITLE', 'PROJECT_START_DATE', 'PROJECT_END_DATE']]"
   ]
  },
  {
   "cell_type": "code",
   "execution_count": 51,
   "metadata": {},
   "outputs": [],
   "source": [
    "#Abstract w/ only 2 occurances in du-duped 2019 data\n",
    "less_common_df = df[df.ABSTRACT == \"DESCRIPTION (provided by applicant):  The proposed research is designed to develop and test a novel mouse model for in vivo target validation studies relevant to neurodegenerative diseases. This model would permit regulatable silencing of disease- relevant genes via RNA interference (RNAi). The development of safe and effective therapies for human disease requires extensive preclinical data on the effects of altered expression and/or activity of specific gene products on disease pathogenesis in experimentally tractable model systems. In recent years, RNAi techniques have greatly expanded the repertoire of reverse genetic approaches available for studies of potential therapeutic targets in vivo. RNAi is a powerful tool for experimental manipulation of gene expression and can be used to assess the impact of inhibiting target gene products on the initiation and maintenance of disease in mouse models. The primary goal of this project is to generate a flexible system that permits regulatable RNAi-mediated gene silencing in vivo and to use this system to evaluate the therapeutic potential of gene knockdown approaches for the treatment of dominantly inherited amyotrophic lateral sclerosis (ALS). Approximately 20% of familial ALS (FALS) cases are caused by mutations in Cu, Zn superoxide dismutase (SOD1). Overwhelming evidence implicates novel toxic function(s) of the mutant protein as the cause of disease; for this reason, mutant SOD1 itself is a key therapeutic target for familial FALS. The regulatable RNAi vector generated in the first part of this project will be used to establish transgenic mice in which mutant SOD1 expression can be shut down upon treatment of animals with doxycycline. These experiments will assess whether inducing RNAi-mediated silencing of mutant SOD1 in the early stages of pathogenesis will slow the progression of disease. Earlier studies have demonstrated that constitutive expression, beginning prenatally, of small RNAs targeting mutant SOD1 could ameliorate disease in an ALS mouse model. To date, however, there are no mouse models of ALS that permit temporal regulation of mutant SOD1 protein levels. Given the uniformly rapid progression of ALS in affected individuals, it is critical to determine whether a reduction of mutant protein levels would be beneficial if achieved at the onset of disease symptoms. The proposed experiments are designed directly to determine at what point, during the life of an animal engineered to develop motor neuron disease, a reduction in the amount of mutant SOD1 protein will provide a significant therapeutic benefit. The results of this study will aid in establishing an appropriate window for applying agents aimed at reducing mutant protein levels in mutant SOD1-mediated ALS and will provide key data regarding the therapeutic potential of RNAi-mediated gene silencing for the treatment of this devastating disease.    Public Health Relevance: The proposed studies are designed to develop a versatile tool that can be used to validate potential therapeutic targets for human neurodegenerative disorders, including amyotrophic lateral sclerosis (ALS), using mouse models of disease. The specific experiments described in this proposal will help to identify a therapeutic window in the disease course during which treatments for ALS would be most likely to succeed. These studies will provide critical data to aid in the development of effective therapies for familial ALS and will yield a novel reagent that can be readily adapted for use in future target validation efforts.\"]"
   ]
  },
  {
   "cell_type": "code",
   "execution_count": 52,
   "metadata": {},
   "outputs": [
    {
     "data": {
      "text/html": [
       "<div>\n",
       "<style scoped>\n",
       "    .dataframe tbody tr th:only-of-type {\n",
       "        vertical-align: middle;\n",
       "    }\n",
       "\n",
       "    .dataframe tbody tr th {\n",
       "        vertical-align: top;\n",
       "    }\n",
       "\n",
       "    .dataframe thead th {\n",
       "        text-align: right;\n",
       "    }\n",
       "</style>\n",
       "<table border=\"1\" class=\"dataframe\">\n",
       "  <thead>\n",
       "    <tr style=\"text-align: right;\">\n",
       "      <th></th>\n",
       "      <th>FY</th>\n",
       "      <th>FY_TOTAL_COST</th>\n",
       "      <th>CONTACT_PI_PROJECT_LEADER</th>\n",
       "      <th>PROJECT_TITLE</th>\n",
       "      <th>PROJECT_START_DATE</th>\n",
       "      <th>PROJECT_END_DATE</th>\n",
       "    </tr>\n",
       "  </thead>\n",
       "  <tbody>\n",
       "    <tr>\n",
       "      <td>161389</td>\n",
       "      <td>2009.0</td>\n",
       "      <td>199643.0</td>\n",
       "      <td>MAXWELL, MICHELE M</td>\n",
       "      <td>TARGET VALIDATION FOR NEUROGENERATIVE DISEASE ...</td>\n",
       "      <td>9/15/2008</td>\n",
       "      <td>2/28/2011</td>\n",
       "    </tr>\n",
       "  </tbody>\n",
       "</table>\n",
       "</div>"
      ],
      "text/plain": [
       "            FY  FY_TOTAL_COST CONTACT_PI_PROJECT_LEADER  \\\n",
       "161389  2009.0       199643.0        MAXWELL, MICHELE M   \n",
       "\n",
       "                                            PROJECT_TITLE PROJECT_START_DATE  \\\n",
       "161389  TARGET VALIDATION FOR NEUROGENERATIVE DISEASE ...          9/15/2008   \n",
       "\n",
       "       PROJECT_END_DATE  \n",
       "161389        2/28/2011  "
      ]
     },
     "execution_count": 52,
     "metadata": {},
     "output_type": "execute_result"
    }
   ],
   "source": [
    "less_common_df[['FY', 'FY_TOTAL_COST', 'CONTACT_PI_PROJECT_LEADER', 'PROJECT_TITLE', 'PROJECT_START_DATE', 'PROJECT_END_DATE']]"
   ]
  },
  {
   "cell_type": "code",
   "execution_count": null,
   "metadata": {},
   "outputs": [],
   "source": []
  },
  {
   "cell_type": "markdown",
   "metadata": {},
   "source": [
    "# Exploring NAN values in metadata"
   ]
  },
  {
   "cell_type": "code",
   "execution_count": 53,
   "metadata": {},
   "outputs": [
    {
     "data": {
      "text/plain": [
       "PROJECT_ID                         0\n",
       "ABSTRACT                           0\n",
       "FY                                 0\n",
       "PROJECT_TERMS                   1691\n",
       "PROJECT_TITLE                      0\n",
       "DEPARTMENT                         0\n",
       "AGENCY                             0\n",
       "IC_CENTER                     381562\n",
       "PROJECT_NUMBER                     0\n",
       "PROJECT_START_DATE             71581\n",
       "PROJECT_END_DATE               72945\n",
       "CONTACT_PI_PROJECT_LEADER         43\n",
       "OTHER_PIS                     535339\n",
       "CONGRESSIONAL_DISTRICT         55801\n",
       "DUNS_NUMBER                     9548\n",
       "ORGANIZATION_NAME               1463\n",
       "ORGANIZATION_CITY               5351\n",
       "ORGANIZATION_STATE              8509\n",
       "ORGANIZATION_ZIP               37663\n",
       "ORGANIZATION_COUNTRY            5147\n",
       "BUDGET_START_DATE             408804\n",
       "BUDGET_END_DATE               408855\n",
       "CFDA_CODE                     101614\n",
       "FY_TOTAL_COST                 155313\n",
       "FY_TOTAL_COST_SUB_PROJECTS    601370\n",
       "dtype: int64"
      ]
     },
     "execution_count": 53,
     "metadata": {},
     "output_type": "execute_result"
    }
   ],
   "source": [
    "#how many rows in each column are NAN in the deduplicated/current data set\n",
    "df.isnull().sum()"
   ]
  },
  {
   "cell_type": "code",
   "execution_count": 54,
   "metadata": {},
   "outputs": [
    {
     "data": {
      "text/plain": [
       "original index                    0\n",
       "PROJECT_ID                        0\n",
       "ABSTRACT                          3\n",
       "FY                                0\n",
       "FIRST_CHAR                        3\n",
       "LAST_CHAR                         0\n",
       "DEPARTMENT                        0\n",
       "AGENCY                            0\n",
       "IC_CENTER                    373853\n",
       "PROJECT_NUMBER                    0\n",
       "PROJECT_TITLE                     0\n",
       "PROJECT_TERMS                  4967\n",
       "CONTACT_PI_PROJECT_LEADER        55\n",
       "OTHER_PIS                    464283\n",
       "ORGANIZATION_NAME               298\n",
       "CFDA_CODE                     76580\n",
       "FY_TOTAL_COST                124403\n",
       "dtype: int64"
      ]
     },
     "execution_count": 54,
     "metadata": {},
     "output_type": "execute_result"
    }
   ],
   "source": [
    "#how many rows in each column are NAN in the old data set\n",
    "old.isnull().sum()"
   ]
  },
  {
   "cell_type": "code",
   "execution_count": 55,
   "metadata": {},
   "outputs": [
    {
     "data": {
      "text/plain": [
       "PROJECT_ID                    1156137\n",
       "ABSTRACT                      1113757\n",
       "FY                            1156137\n",
       "PROJECT_TERMS                 1152115\n",
       "PROJECT_TITLE                 1156137\n",
       "DEPARTMENT                    1156137\n",
       "AGENCY                        1156137\n",
       "IC_CENTER                      533709\n",
       "PROJECT_NUMBER                1156137\n",
       "PROJECT_START_DATE            1001211\n",
       "PROJECT_END_DATE              1009805\n",
       "CONTACT_PI_PROJECT_LEADER     1156092\n",
       "OTHER_PIS                      143679\n",
       "CONGRESSIONAL_DISTRICT        1081654\n",
       "DUNS_NUMBER                   1141572\n",
       "ORGANIZATION_NAME             1154479\n",
       "ORGANIZATION_CITY             1150211\n",
       "ORGANIZATION_STATE            1139136\n",
       "ORGANIZATION_ZIP              1107142\n",
       "ORGANIZATION_COUNTRY          1150432\n",
       "BUDGET_START_DATE              496483\n",
       "BUDGET_END_DATE                496432\n",
       "CFDA_CODE                      954782\n",
       "FY_TOTAL_COST                  868439\n",
       "FY_TOTAL_COST_SUB_PROJECTS      74020\n",
       "dtype: int64"
      ]
     },
     "execution_count": 55,
     "metadata": {},
     "output_type": "execute_result"
    }
   ],
   "source": [
    "#how many rows in each column are NOT NAN in the raw 2019 data\n",
    "len(raw) - raw.isnull().sum()"
   ]
  },
  {
   "cell_type": "code",
   "execution_count": null,
   "metadata": {},
   "outputs": [],
   "source": []
  },
  {
   "cell_type": "markdown",
   "metadata": {},
   "source": [
    "### Fill empty PROJECT_START/END_DATEs  with BUDGET END/START DATEs"
   ]
  },
  {
   "cell_type": "code",
   "execution_count": 56,
   "metadata": {},
   "outputs": [
    {
     "data": {
      "text/plain": [
       "47283"
      ]
     },
     "execution_count": 56,
     "metadata": {},
     "output_type": "execute_result"
    }
   ],
   "source": [
    "# For rows with missing Project Start Date, how many also have missing Budget Start Date\n",
    "df[df.PROJECT_START_DATE.isnull()]['BUDGET_START_DATE'].isnull().sum()"
   ]
  },
  {
   "cell_type": "code",
   "execution_count": 57,
   "metadata": {},
   "outputs": [
    {
     "data": {
      "text/plain": [
       "24298"
      ]
     },
     "execution_count": 57,
     "metadata": {},
     "output_type": "execute_result"
    }
   ],
   "source": [
    "# For rows with missing Project Start Date, how many are NOT missing Budget Start Date\n",
    "df[df.PROJECT_START_DATE.isnull()]['BUDGET_START_DATE'].notnull().sum()"
   ]
  },
  {
   "cell_type": "code",
   "execution_count": 58,
   "metadata": {},
   "outputs": [],
   "source": [
    "# Fill missing values in Project Start Date with Budget Start Date\n",
    "df['PROJECT_START_DATE'] = df['PROJECT_START_DATE'].fillna(df['BUDGET_START_DATE'])"
   ]
  },
  {
   "cell_type": "code",
   "execution_count": 59,
   "metadata": {},
   "outputs": [
    {
     "data": {
      "text/plain": [
       "PROJECT_START_DATE    47283\n",
       "dtype: int64"
      ]
     },
     "execution_count": 59,
     "metadata": {},
     "output_type": "execute_result"
    }
   ],
   "source": [
    "df[['PROJECT_START_DATE']].isnull().sum()"
   ]
  },
  {
   "cell_type": "code",
   "execution_count": 60,
   "metadata": {},
   "outputs": [
    {
     "data": {
      "text/plain": [
       "47835"
      ]
     },
     "execution_count": 60,
     "metadata": {},
     "output_type": "execute_result"
    }
   ],
   "source": [
    "# For rows with missing Project END Date, how many also have missing Budget END Date\n",
    "df[df.PROJECT_END_DATE.isnull()]['BUDGET_END_DATE'].isnull().sum()"
   ]
  },
  {
   "cell_type": "code",
   "execution_count": 61,
   "metadata": {},
   "outputs": [
    {
     "data": {
      "text/plain": [
       "25110"
      ]
     },
     "execution_count": 61,
     "metadata": {},
     "output_type": "execute_result"
    }
   ],
   "source": [
    "# For rows with missing Project END Date, how many are NOT missing Budget END Date\n",
    "df[df.PROJECT_END_DATE.isnull()]['BUDGET_END_DATE'].notnull().sum()"
   ]
  },
  {
   "cell_type": "code",
   "execution_count": 62,
   "metadata": {},
   "outputs": [],
   "source": [
    "# Fill missing values in Project Start Date with Budget Start Date\n",
    "df['PROJECT_END_DATE'] = df['PROJECT_END_DATE'].fillna(df['BUDGET_END_DATE'])"
   ]
  },
  {
   "cell_type": "code",
   "execution_count": 63,
   "metadata": {},
   "outputs": [
    {
     "data": {
      "text/plain": [
       "PROJECT_END_DATE    47835\n",
       "dtype: int64"
      ]
     },
     "execution_count": 63,
     "metadata": {},
     "output_type": "execute_result"
    }
   ],
   "source": [
    "df[['PROJECT_END_DATE']].isnull().sum()"
   ]
  },
  {
   "cell_type": "code",
   "execution_count": null,
   "metadata": {},
   "outputs": [],
   "source": []
  },
  {
   "cell_type": "code",
   "execution_count": null,
   "metadata": {},
   "outputs": [],
   "source": []
  },
  {
   "cell_type": "code",
   "execution_count": null,
   "metadata": {},
   "outputs": [],
   "source": []
  },
  {
   "cell_type": "code",
   "execution_count": 64,
   "metadata": {},
   "outputs": [],
   "source": [
    "rawyear = raw.FY.value_counts().sort_index()"
   ]
  },
  {
   "cell_type": "code",
   "execution_count": 65,
   "metadata": {},
   "outputs": [
    {
     "data": {
      "image/png": "[encoded data removed]",
      "text/plain": [
       "<Figure size 432x288 with 1 Axes>"
      ]
     },
     "metadata": {
      "needs_background": "light"
     },
     "output_type": "display_data"
    }
   ],
   "source": [
    "plt.bar(rawyear.index, rawyear, align='center', alpha=0.5)\n",
    "#plt.xticks(y_pos, objects)\n",
    "plt.ylabel('# of Abstracts')\n",
    "plt.title('Abstracts per year in raw 2019 data')\n",
    "\n",
    "plt.show()"
   ]
  },
  {
   "cell_type": "code",
   "execution_count": 66,
   "metadata": {},
   "outputs": [
    {
     "data": {
      "text/plain": [
       "2008.0    59360\n",
       "2009.0    67107\n",
       "2010.0    62816\n",
       "2011.0    58070\n",
       "2012.0    64319\n",
       "2013.0    46762\n",
       "2014.0    46567\n",
       "2015.0    41285\n",
       "2016.0    43241\n",
       "2017.0    41297\n",
       "2018.0    43398\n",
       "2019.0    53844\n",
       "Name: FY, dtype: int64"
      ]
     },
     "execution_count": 66,
     "metadata": {},
     "output_type": "execute_result"
    }
   ],
   "source": [
    "year = df.FY.value_counts().sort_index()\n",
    "year"
   ]
  },
  {
   "cell_type": "code",
   "execution_count": 67,
   "metadata": {},
   "outputs": [
    {
     "data": {
      "image/png": "[encoded data removed]",
      "text/plain": [
       "<Figure size 432x288 with 1 Axes>"
      ]
     },
     "metadata": {
      "needs_background": "light"
     },
     "output_type": "display_data"
    }
   ],
   "source": [
    "plt.bar(year.index, year, align='center', alpha=0.5)\n",
    "#plt.xticks(y_pos, objects)\n",
    "plt.ylabel('# of Abstracts')\n",
    "plt.title('Abstracts per year in deduplicate 2019 data')\n",
    "\n",
    "plt.show()"
   ]
  },
  {
   "cell_type": "code",
   "execution_count": 68,
   "metadata": {},
   "outputs": [
    {
     "data": {
      "text/plain": [
       "2008    94846\n",
       "2009    53413\n",
       "2010    46349\n",
       "2011    42761\n",
       "2012    64056\n",
       "2013    53345\n",
       "2014    43325\n",
       "2015    42252\n",
       "2016    39681\n",
       "2017    34619\n",
       "2018    35441\n",
       "Name: FY, dtype: int64"
      ]
     },
     "execution_count": 68,
     "metadata": {},
     "output_type": "execute_result"
    }
   ],
   "source": [
    "oldyear = old.FY.value_counts().sort_index()\n",
    "oldyear"
   ]
  },
  {
   "cell_type": "code",
   "execution_count": 69,
   "metadata": {},
   "outputs": [
    {
     "data": {
      "image/png": "[encoded data removed]",
      "text/plain": [
       "<Figure size 432x288 with 1 Axes>"
      ]
     },
     "metadata": {
      "needs_background": "light"
     },
     "output_type": "display_data"
    }
   ],
   "source": [
    "plt.bar(oldyear.index, oldyear, align='center', alpha=0.5)\n",
    "#plt.xticks(y_pos, objects)\n",
    "plt.ylabel('# of Abstracts')\n",
    "plt.title('Abstracts per year')\n",
    "\n",
    "plt.show()"
   ]
  },
  {
   "cell_type": "code",
   "execution_count": null,
   "metadata": {},
   "outputs": [],
   "source": []
  },
  {
   "cell_type": "code",
   "execution_count": null,
   "metadata": {},
   "outputs": [],
   "source": []
  },
  {
   "cell_type": "markdown",
   "metadata": {},
   "source": [
    "### NAs per year"
   ]
  },
  {
   "cell_type": "code",
   "execution_count": 70,
   "metadata": {},
   "outputs": [],
   "source": [
    "nans = df.isnull()\n",
    "nans = nans.drop('FY', axis=1)\n",
    "nans['FY'] = df['FY']"
   ]
  },
  {
   "cell_type": "code",
   "execution_count": 71,
   "metadata": {},
   "outputs": [
    {
     "data": {
      "text/html": [
       "<div>\n",
       "<style scoped>\n",
       "    .dataframe tbody tr th:only-of-type {\n",
       "        vertical-align: middle;\n",
       "    }\n",
       "\n",
       "    .dataframe tbody tr th {\n",
       "        vertical-align: top;\n",
       "    }\n",
       "\n",
       "    .dataframe thead th {\n",
       "        text-align: right;\n",
       "    }\n",
       "</style>\n",
       "<table border=\"1\" class=\"dataframe\">\n",
       "  <thead>\n",
       "    <tr style=\"text-align: right;\">\n",
       "      <th></th>\n",
       "      <th>PROJECT_ID</th>\n",
       "      <th>ABSTRACT</th>\n",
       "      <th>PROJECT_TERMS</th>\n",
       "      <th>PROJECT_TITLE</th>\n",
       "      <th>DEPARTMENT</th>\n",
       "      <th>AGENCY</th>\n",
       "      <th>IC_CENTER</th>\n",
       "      <th>PROJECT_NUMBER</th>\n",
       "      <th>PROJECT_START_DATE</th>\n",
       "      <th>PROJECT_END_DATE</th>\n",
       "      <th>...</th>\n",
       "      <th>ORGANIZATION_NAME</th>\n",
       "      <th>ORGANIZATION_CITY</th>\n",
       "      <th>ORGANIZATION_STATE</th>\n",
       "      <th>ORGANIZATION_ZIP</th>\n",
       "      <th>ORGANIZATION_COUNTRY</th>\n",
       "      <th>BUDGET_START_DATE</th>\n",
       "      <th>BUDGET_END_DATE</th>\n",
       "      <th>CFDA_CODE</th>\n",
       "      <th>FY_TOTAL_COST</th>\n",
       "      <th>FY_TOTAL_COST_SUB_PROJECTS</th>\n",
       "    </tr>\n",
       "    <tr>\n",
       "      <th>FY</th>\n",
       "      <th></th>\n",
       "      <th></th>\n",
       "      <th></th>\n",
       "      <th></th>\n",
       "      <th></th>\n",
       "      <th></th>\n",
       "      <th></th>\n",
       "      <th></th>\n",
       "      <th></th>\n",
       "      <th></th>\n",
       "      <th></th>\n",
       "      <th></th>\n",
       "      <th></th>\n",
       "      <th></th>\n",
       "      <th></th>\n",
       "      <th></th>\n",
       "      <th></th>\n",
       "      <th></th>\n",
       "      <th></th>\n",
       "      <th></th>\n",
       "      <th></th>\n",
       "    </tr>\n",
       "  </thead>\n",
       "  <tbody>\n",
       "    <tr>\n",
       "      <td>2008.0</td>\n",
       "      <td>0.0</td>\n",
       "      <td>0.0</td>\n",
       "      <td>1691.0</td>\n",
       "      <td>0.0</td>\n",
       "      <td>0.0</td>\n",
       "      <td>0.0</td>\n",
       "      <td>59360.0</td>\n",
       "      <td>0.0</td>\n",
       "      <td>5678.0</td>\n",
       "      <td>5699.0</td>\n",
       "      <td>...</td>\n",
       "      <td>55.0</td>\n",
       "      <td>239.0</td>\n",
       "      <td>510.0</td>\n",
       "      <td>3308.0</td>\n",
       "      <td>239.0</td>\n",
       "      <td>59360.0</td>\n",
       "      <td>59360.0</td>\n",
       "      <td>9317.0</td>\n",
       "      <td>17462.0</td>\n",
       "      <td>59347.0</td>\n",
       "    </tr>\n",
       "    <tr>\n",
       "      <td>2009.0</td>\n",
       "      <td>0.0</td>\n",
       "      <td>0.0</td>\n",
       "      <td>0.0</td>\n",
       "      <td>0.0</td>\n",
       "      <td>0.0</td>\n",
       "      <td>0.0</td>\n",
       "      <td>67107.0</td>\n",
       "      <td>0.0</td>\n",
       "      <td>5744.0</td>\n",
       "      <td>5816.0</td>\n",
       "      <td>...</td>\n",
       "      <td>21.0</td>\n",
       "      <td>133.0</td>\n",
       "      <td>374.0</td>\n",
       "      <td>3107.0</td>\n",
       "      <td>133.0</td>\n",
       "      <td>67107.0</td>\n",
       "      <td>67107.0</td>\n",
       "      <td>8915.0</td>\n",
       "      <td>16107.0</td>\n",
       "      <td>67102.0</td>\n",
       "    </tr>\n",
       "    <tr>\n",
       "      <td>2010.0</td>\n",
       "      <td>0.0</td>\n",
       "      <td>0.0</td>\n",
       "      <td>0.0</td>\n",
       "      <td>0.0</td>\n",
       "      <td>0.0</td>\n",
       "      <td>0.0</td>\n",
       "      <td>62816.0</td>\n",
       "      <td>0.0</td>\n",
       "      <td>5967.0</td>\n",
       "      <td>6085.0</td>\n",
       "      <td>...</td>\n",
       "      <td>116.0</td>\n",
       "      <td>416.0</td>\n",
       "      <td>626.0</td>\n",
       "      <td>3386.0</td>\n",
       "      <td>412.0</td>\n",
       "      <td>62816.0</td>\n",
       "      <td>62816.0</td>\n",
       "      <td>9356.0</td>\n",
       "      <td>15142.0</td>\n",
       "      <td>62805.0</td>\n",
       "    </tr>\n",
       "    <tr>\n",
       "      <td>2011.0</td>\n",
       "      <td>0.0</td>\n",
       "      <td>0.0</td>\n",
       "      <td>0.0</td>\n",
       "      <td>0.0</td>\n",
       "      <td>0.0</td>\n",
       "      <td>0.0</td>\n",
       "      <td>58070.0</td>\n",
       "      <td>0.0</td>\n",
       "      <td>5041.0</td>\n",
       "      <td>5211.0</td>\n",
       "      <td>...</td>\n",
       "      <td>2.0</td>\n",
       "      <td>237.0</td>\n",
       "      <td>484.0</td>\n",
       "      <td>3167.0</td>\n",
       "      <td>240.0</td>\n",
       "      <td>58070.0</td>\n",
       "      <td>58070.0</td>\n",
       "      <td>8057.0</td>\n",
       "      <td>12975.0</td>\n",
       "      <td>58052.0</td>\n",
       "    </tr>\n",
       "    <tr>\n",
       "      <td>2012.0</td>\n",
       "      <td>0.0</td>\n",
       "      <td>0.0</td>\n",
       "      <td>0.0</td>\n",
       "      <td>0.0</td>\n",
       "      <td>0.0</td>\n",
       "      <td>0.0</td>\n",
       "      <td>15362.0</td>\n",
       "      <td>0.0</td>\n",
       "      <td>3091.0</td>\n",
       "      <td>3121.0</td>\n",
       "      <td>...</td>\n",
       "      <td>11.0</td>\n",
       "      <td>209.0</td>\n",
       "      <td>546.0</td>\n",
       "      <td>3279.0</td>\n",
       "      <td>208.0</td>\n",
       "      <td>19099.0</td>\n",
       "      <td>19102.0</td>\n",
       "      <td>8367.0</td>\n",
       "      <td>7086.0</td>\n",
       "      <td>59878.0</td>\n",
       "    </tr>\n",
       "    <tr>\n",
       "      <td>2013.0</td>\n",
       "      <td>0.0</td>\n",
       "      <td>0.0</td>\n",
       "      <td>0.0</td>\n",
       "      <td>0.0</td>\n",
       "      <td>0.0</td>\n",
       "      <td>0.0</td>\n",
       "      <td>46762.0</td>\n",
       "      <td>0.0</td>\n",
       "      <td>6314.0</td>\n",
       "      <td>6368.0</td>\n",
       "      <td>...</td>\n",
       "      <td>65.0</td>\n",
       "      <td>161.0</td>\n",
       "      <td>384.0</td>\n",
       "      <td>2692.0</td>\n",
       "      <td>160.0</td>\n",
       "      <td>46762.0</td>\n",
       "      <td>46762.0</td>\n",
       "      <td>8913.0</td>\n",
       "      <td>8101.0</td>\n",
       "      <td>46754.0</td>\n",
       "    </tr>\n",
       "    <tr>\n",
       "      <td>2014.0</td>\n",
       "      <td>0.0</td>\n",
       "      <td>0.0</td>\n",
       "      <td>0.0</td>\n",
       "      <td>0.0</td>\n",
       "      <td>0.0</td>\n",
       "      <td>0.0</td>\n",
       "      <td>15316.0</td>\n",
       "      <td>0.0</td>\n",
       "      <td>2468.0</td>\n",
       "      <td>2469.0</td>\n",
       "      <td>...</td>\n",
       "      <td>27.0</td>\n",
       "      <td>208.0</td>\n",
       "      <td>423.0</td>\n",
       "      <td>2684.0</td>\n",
       "      <td>205.0</td>\n",
       "      <td>18613.0</td>\n",
       "      <td>18614.0</td>\n",
       "      <td>8743.0</td>\n",
       "      <td>46507.0</td>\n",
       "      <td>46538.0</td>\n",
       "    </tr>\n",
       "    <tr>\n",
       "      <td>2015.0</td>\n",
       "      <td>0.0</td>\n",
       "      <td>0.0</td>\n",
       "      <td>0.0</td>\n",
       "      <td>0.0</td>\n",
       "      <td>0.0</td>\n",
       "      <td>0.0</td>\n",
       "      <td>16501.0</td>\n",
       "      <td>0.0</td>\n",
       "      <td>2636.0</td>\n",
       "      <td>2649.0</td>\n",
       "      <td>...</td>\n",
       "      <td>49.0</td>\n",
       "      <td>275.0</td>\n",
       "      <td>592.0</td>\n",
       "      <td>5323.0</td>\n",
       "      <td>207.0</td>\n",
       "      <td>20171.0</td>\n",
       "      <td>20171.0</td>\n",
       "      <td>5990.0</td>\n",
       "      <td>5472.0</td>\n",
       "      <td>38910.0</td>\n",
       "    </tr>\n",
       "    <tr>\n",
       "      <td>2016.0</td>\n",
       "      <td>0.0</td>\n",
       "      <td>0.0</td>\n",
       "      <td>0.0</td>\n",
       "      <td>0.0</td>\n",
       "      <td>0.0</td>\n",
       "      <td>0.0</td>\n",
       "      <td>16196.0</td>\n",
       "      <td>0.0</td>\n",
       "      <td>2395.0</td>\n",
       "      <td>2405.0</td>\n",
       "      <td>...</td>\n",
       "      <td>10.0</td>\n",
       "      <td>168.0</td>\n",
       "      <td>478.0</td>\n",
       "      <td>2508.0</td>\n",
       "      <td>95.0</td>\n",
       "      <td>19836.0</td>\n",
       "      <td>19837.0</td>\n",
       "      <td>6860.0</td>\n",
       "      <td>5844.0</td>\n",
       "      <td>39825.0</td>\n",
       "    </tr>\n",
       "    <tr>\n",
       "      <td>2017.0</td>\n",
       "      <td>0.0</td>\n",
       "      <td>0.0</td>\n",
       "      <td>0.0</td>\n",
       "      <td>0.0</td>\n",
       "      <td>0.0</td>\n",
       "      <td>0.0</td>\n",
       "      <td>12167.0</td>\n",
       "      <td>0.0</td>\n",
       "      <td>2496.0</td>\n",
       "      <td>2503.0</td>\n",
       "      <td>...</td>\n",
       "      <td>24.0</td>\n",
       "      <td>100.0</td>\n",
       "      <td>375.0</td>\n",
       "      <td>2680.0</td>\n",
       "      <td>45.0</td>\n",
       "      <td>15912.0</td>\n",
       "      <td>15913.0</td>\n",
       "      <td>5378.0</td>\n",
       "      <td>2979.0</td>\n",
       "      <td>39287.0</td>\n",
       "    </tr>\n",
       "    <tr>\n",
       "      <td>2018.0</td>\n",
       "      <td>0.0</td>\n",
       "      <td>0.0</td>\n",
       "      <td>0.0</td>\n",
       "      <td>0.0</td>\n",
       "      <td>0.0</td>\n",
       "      <td>0.0</td>\n",
       "      <td>11905.0</td>\n",
       "      <td>0.0</td>\n",
       "      <td>2287.0</td>\n",
       "      <td>2313.0</td>\n",
       "      <td>...</td>\n",
       "      <td>22.0</td>\n",
       "      <td>23.0</td>\n",
       "      <td>211.0</td>\n",
       "      <td>2339.0</td>\n",
       "      <td>19.0</td>\n",
       "      <td>15614.0</td>\n",
       "      <td>15634.0</td>\n",
       "      <td>6437.0</td>\n",
       "      <td>4433.0</td>\n",
       "      <td>40071.0</td>\n",
       "    </tr>\n",
       "    <tr>\n",
       "      <td>2019.0</td>\n",
       "      <td>0.0</td>\n",
       "      <td>0.0</td>\n",
       "      <td>0.0</td>\n",
       "      <td>0.0</td>\n",
       "      <td>0.0</td>\n",
       "      <td>0.0</td>\n",
       "      <td>0.0</td>\n",
       "      <td>0.0</td>\n",
       "      <td>3166.0</td>\n",
       "      <td>3196.0</td>\n",
       "      <td>...</td>\n",
       "      <td>1061.0</td>\n",
       "      <td>3182.0</td>\n",
       "      <td>3506.0</td>\n",
       "      <td>3190.0</td>\n",
       "      <td>3184.0</td>\n",
       "      <td>5444.0</td>\n",
       "      <td>5469.0</td>\n",
       "      <td>15281.0</td>\n",
       "      <td>13205.0</td>\n",
       "      <td>42801.0</td>\n",
       "    </tr>\n",
       "  </tbody>\n",
       "</table>\n",
       "<p>12 rows × 24 columns</p>\n",
       "</div>"
      ],
      "text/plain": [
       "        PROJECT_ID  ABSTRACT  PROJECT_TERMS  PROJECT_TITLE  DEPARTMENT  \\\n",
       "FY                                                                       \n",
       "2008.0         0.0       0.0         1691.0            0.0         0.0   \n",
       "2009.0         0.0       0.0            0.0            0.0         0.0   \n",
       "2010.0         0.0       0.0            0.0            0.0         0.0   \n",
       "2011.0         0.0       0.0            0.0            0.0         0.0   \n",
       "2012.0         0.0       0.0            0.0            0.0         0.0   \n",
       "2013.0         0.0       0.0            0.0            0.0         0.0   \n",
       "2014.0         0.0       0.0            0.0            0.0         0.0   \n",
       "2015.0         0.0       0.0            0.0            0.0         0.0   \n",
       "2016.0         0.0       0.0            0.0            0.0         0.0   \n",
       "2017.0         0.0       0.0            0.0            0.0         0.0   \n",
       "2018.0         0.0       0.0            0.0            0.0         0.0   \n",
       "2019.0         0.0       0.0            0.0            0.0         0.0   \n",
       "\n",
       "        AGENCY  IC_CENTER  PROJECT_NUMBER  PROJECT_START_DATE  \\\n",
       "FY                                                              \n",
       "2008.0     0.0    59360.0             0.0              5678.0   \n",
       "2009.0     0.0    67107.0             0.0              5744.0   \n",
       "2010.0     0.0    62816.0             0.0              5967.0   \n",
       "2011.0     0.0    58070.0             0.0              5041.0   \n",
       "2012.0     0.0    15362.0             0.0              3091.0   \n",
       "2013.0     0.0    46762.0             0.0              6314.0   \n",
       "2014.0     0.0    15316.0             0.0              2468.0   \n",
       "2015.0     0.0    16501.0             0.0              2636.0   \n",
       "2016.0     0.0    16196.0             0.0              2395.0   \n",
       "2017.0     0.0    12167.0             0.0              2496.0   \n",
       "2018.0     0.0    11905.0             0.0              2287.0   \n",
       "2019.0     0.0        0.0             0.0              3166.0   \n",
       "\n",
       "        PROJECT_END_DATE  ...  ORGANIZATION_NAME  ORGANIZATION_CITY  \\\n",
       "FY                        ...                                         \n",
       "2008.0            5699.0  ...               55.0              239.0   \n",
       "2009.0            5816.0  ...               21.0              133.0   \n",
       "2010.0            6085.0  ...              116.0              416.0   \n",
       "2011.0            5211.0  ...                2.0              237.0   \n",
       "2012.0            3121.0  ...               11.0              209.0   \n",
       "2013.0            6368.0  ...               65.0              161.0   \n",
       "2014.0            2469.0  ...               27.0              208.0   \n",
       "2015.0            2649.0  ...               49.0              275.0   \n",
       "2016.0            2405.0  ...               10.0              168.0   \n",
       "2017.0            2503.0  ...               24.0              100.0   \n",
       "2018.0            2313.0  ...               22.0               23.0   \n",
       "2019.0            3196.0  ...             1061.0             3182.0   \n",
       "\n",
       "        ORGANIZATION_STATE  ORGANIZATION_ZIP  ORGANIZATION_COUNTRY  \\\n",
       "FY                                                                   \n",
       "2008.0               510.0            3308.0                 239.0   \n",
       "2009.0               374.0            3107.0                 133.0   \n",
       "2010.0               626.0            3386.0                 412.0   \n",
       "2011.0               484.0            3167.0                 240.0   \n",
       "2012.0               546.0            3279.0                 208.0   \n",
       "2013.0               384.0            2692.0                 160.0   \n",
       "2014.0               423.0            2684.0                 205.0   \n",
       "2015.0               592.0            5323.0                 207.0   \n",
       "2016.0               478.0            2508.0                  95.0   \n",
       "2017.0               375.0            2680.0                  45.0   \n",
       "2018.0               211.0            2339.0                  19.0   \n",
       "2019.0              3506.0            3190.0                3184.0   \n",
       "\n",
       "        BUDGET_START_DATE  BUDGET_END_DATE  CFDA_CODE  FY_TOTAL_COST  \\\n",
       "FY                                                                     \n",
       "2008.0            59360.0          59360.0     9317.0        17462.0   \n",
       "2009.0            67107.0          67107.0     8915.0        16107.0   \n",
       "2010.0            62816.0          62816.0     9356.0        15142.0   \n",
       "2011.0            58070.0          58070.0     8057.0        12975.0   \n",
       "2012.0            19099.0          19102.0     8367.0         7086.0   \n",
       "2013.0            46762.0          46762.0     8913.0         8101.0   \n",
       "2014.0            18613.0          18614.0     8743.0        46507.0   \n",
       "2015.0            20171.0          20171.0     5990.0         5472.0   \n",
       "2016.0            19836.0          19837.0     6860.0         5844.0   \n",
       "2017.0            15912.0          15913.0     5378.0         2979.0   \n",
       "2018.0            15614.0          15634.0     6437.0         4433.0   \n",
       "2019.0             5444.0           5469.0    15281.0        13205.0   \n",
       "\n",
       "        FY_TOTAL_COST_SUB_PROJECTS  \n",
       "FY                                  \n",
       "2008.0                     59347.0  \n",
       "2009.0                     67102.0  \n",
       "2010.0                     62805.0  \n",
       "2011.0                     58052.0  \n",
       "2012.0                     59878.0  \n",
       "2013.0                     46754.0  \n",
       "2014.0                     46538.0  \n",
       "2015.0                     38910.0  \n",
       "2016.0                     39825.0  \n",
       "2017.0                     39287.0  \n",
       "2018.0                     40071.0  \n",
       "2019.0                     42801.0  \n",
       "\n",
       "[12 rows x 24 columns]"
      ]
     },
     "execution_count": 71,
     "metadata": {},
     "output_type": "execute_result"
    }
   ],
   "source": [
    "nans = nans.groupby('FY').sum()\n",
    "nans"
   ]
  },
  {
   "cell_type": "code",
   "execution_count": 72,
   "metadata": {},
   "outputs": [
    {
     "data": {
      "text/plain": [
       "FY\n",
       "2008.0    341321.0\n",
       "2009.0    374004.0\n",
       "2010.0    353380.0\n",
       "2011.0    323649.0\n",
       "2012.0    204549.0\n",
       "2013.0    264739.0\n",
       "2014.0    206782.0\n",
       "2015.0    158496.0\n",
       "2016.0    155835.0\n",
       "2017.0    136301.0\n",
       "2018.0    138672.0\n",
       "2019.0    155463.0\n",
       "dtype: float64"
      ]
     },
     "execution_count": 72,
     "metadata": {},
     "output_type": "execute_result"
    }
   ],
   "source": [
    "totalnan = nans.sum(axis = 1)\n",
    "totalnan"
   ]
  },
  {
   "cell_type": "code",
   "execution_count": 73,
   "metadata": {},
   "outputs": [
    {
     "data": {
      "image/png": "[encoded data removed]",
      "text/plain": [
       "<Figure size 432x288 with 1 Axes>"
      ]
     },
     "metadata": {
      "needs_background": "light"
     },
     "output_type": "display_data"
    }
   ],
   "source": [
    "plt.bar(totalnan.index, totalnan/(year*len(df.columns)), align='center', alpha=0.5)\n",
    "#plt.xticks(y_pos, objects)\n",
    "plt.ylabel('% NAs')\n",
    "plt.title('% NAs per year for all Vars')\n",
    "\n",
    "plt.show()"
   ]
  },
  {
   "cell_type": "code",
   "execution_count": 74,
   "metadata": {},
   "outputs": [
    {
     "data": {
      "image/png": "[encoded data removed]",
      "text/plain": [
       "<Figure size 432x288 with 1 Axes>"
      ]
     },
     "metadata": {
      "needs_background": "light"
     },
     "output_type": "display_data"
    }
   ],
   "source": [
    "plt.bar(nans.index, nans.IC_CENTER/year, align='center', alpha=0.5)\n",
    "#plt.xticks(y_pos, objects)\n",
    "plt.ylabel('% NAs')\n",
    "plt.title('IC_CENTER % NA per year')\n",
    "\n",
    "plt.show()"
   ]
  },
  {
   "cell_type": "code",
   "execution_count": 75,
   "metadata": {},
   "outputs": [
    {
     "data": {
      "image/png": "[encoded data removed]",
      "text/plain": [
       "<Figure size 432x288 with 1 Axes>"
      ]
     },
     "metadata": {
      "needs_background": "light"
     },
     "output_type": "display_data"
    }
   ],
   "source": [
    "plt.bar(nans.index, nans.PROJECT_TERMS/year, align='center', alpha=0.5)\n",
    "#plt.xticks(y_pos, objects)\n",
    "plt.ylabel('% NAs')\n",
    "plt.title('PROJECT_TERMS % NA per year')\n",
    "\n",
    "plt.show()"
   ]
  },
  {
   "cell_type": "code",
   "execution_count": 76,
   "metadata": {},
   "outputs": [
    {
     "data": {
      "image/png": "[encoded data removed]",
      "text/plain": [
       "<Figure size 432x288 with 1 Axes>"
      ]
     },
     "metadata": {
      "needs_background": "light"
     },
     "output_type": "display_data"
    }
   ],
   "source": [
    "plt.bar(nans.index, nans.OTHER_PIS/year, align='center', alpha=0.5)\n",
    "#plt.xticks(y_pos, objects)\n",
    "plt.ylabel('% NAs')\n",
    "plt.title('OTHER_PIS % NA per year')\n",
    "\n",
    "plt.show()"
   ]
  },
  {
   "cell_type": "code",
   "execution_count": 77,
   "metadata": {},
   "outputs": [
    {
     "data": {
      "image/png": "[encoded data removed]",
      "text/plain": [
       "<Figure size 432x288 with 1 Axes>"
      ]
     },
     "metadata": {
      "needs_background": "light"
     },
     "output_type": "display_data"
    }
   ],
   "source": [
    "plt.bar(nans.index, nans.ORGANIZATION_NAME/year, align='center', alpha=0.5)\n",
    "#plt.xticks(y_pos, objects)\n",
    "plt.ylabel('% NAs')\n",
    "plt.title('ORGANIZATION_NAME % NA per year')\n",
    "\n",
    "plt.show()"
   ]
  },
  {
   "cell_type": "code",
   "execution_count": 78,
   "metadata": {},
   "outputs": [
    {
     "data": {
      "image/png": "[encoded data removed]",
      "text/plain": [
       "<Figure size 432x288 with 1 Axes>"
      ]
     },
     "metadata": {
      "needs_background": "light"
     },
     "output_type": "display_data"
    }
   ],
   "source": [
    "plt.bar(nans.index, nans.CFDA_CODE/year, align='center', alpha=0.5)\n",
    "#plt.xticks(y_pos, objects)\n",
    "plt.ylabel('% NAs')\n",
    "plt.title('CFDA_CODE % NA per year')\n",
    "\n",
    "plt.show()"
   ]
  },
  {
   "cell_type": "code",
   "execution_count": 79,
   "metadata": {},
   "outputs": [
    {
     "data": {
      "image/png": "[encoded data removed]",
      "text/plain": [
       "<Figure size 432x288 with 1 Axes>"
      ]
     },
     "metadata": {
      "needs_background": "light"
     },
     "output_type": "display_data"
    }
   ],
   "source": [
    "plt.bar(nans.index, nans.FY_TOTAL_COST/year, align='center', alpha=0.5)\n",
    "#plt.xticks(y_pos, objects)\n",
    "plt.ylabel('% NAs')\n",
    "plt.title('FY_TOTAL_COST % NA per year')\n",
    "\n",
    "plt.show()"
   ]
  },
  {
   "cell_type": "code",
   "execution_count": 80,
   "metadata": {},
   "outputs": [
    {
     "data": {
      "text/plain": [
       "46567"
      ]
     },
     "execution_count": 80,
     "metadata": {},
     "output_type": "execute_result"
    }
   ],
   "source": [
    "len(df[df.FY == 2014])"
   ]
  },
  {
   "cell_type": "code",
   "execution_count": 81,
   "metadata": {},
   "outputs": [
    {
     "data": {
      "text/plain": [
       "46507"
      ]
     },
     "execution_count": 81,
     "metadata": {},
     "output_type": "execute_result"
    }
   ],
   "source": [
    "df[df.FY == 2014]['FY_TOTAL_COST'].isnull().sum()"
   ]
  },
  {
   "cell_type": "code",
   "execution_count": 82,
   "metadata": {},
   "outputs": [
    {
     "data": {
      "text/plain": [
       "46538"
      ]
     },
     "execution_count": 82,
     "metadata": {},
     "output_type": "execute_result"
    }
   ],
   "source": [
    "df[df.FY == 2014]['FY_TOTAL_COST_SUB_PROJECTS'].isnull().sum()"
   ]
  },
  {
   "cell_type": "code",
   "execution_count": null,
   "metadata": {},
   "outputs": [],
   "source": []
  },
  {
   "cell_type": "code",
   "execution_count": null,
   "metadata": {},
   "outputs": [],
   "source": []
  },
  {
   "cell_type": "code",
   "execution_count": 83,
   "metadata": {},
   "outputs": [],
   "source": [
    "same = df.DEPARTMENT == df.AGENCY"
   ]
  },
  {
   "cell_type": "code",
   "execution_count": 84,
   "metadata": {},
   "outputs": [
    {
     "data": {
      "text/plain": [
       "144984"
      ]
     },
     "execution_count": 84,
     "metadata": {},
     "output_type": "execute_result"
    }
   ],
   "source": [
    "same.sum()"
   ]
  },
  {
   "cell_type": "code",
   "execution_count": 85,
   "metadata": {},
   "outputs": [
    {
     "data": {
      "text/plain": [
       "483082"
      ]
     },
     "execution_count": 85,
     "metadata": {},
     "output_type": "execute_result"
    }
   ],
   "source": [
    "len(df) - same.sum()"
   ]
  },
  {
   "cell_type": "markdown",
   "metadata": {},
   "source": [
    "While there are no NAN values in DEPARTMENT or AGENCY, there are mismatched between them on ~5/6 of the rows"
   ]
  },
  {
   "cell_type": "code",
   "execution_count": null,
   "metadata": {},
   "outputs": [],
   "source": []
  },
  {
   "cell_type": "code",
   "execution_count": null,
   "metadata": {},
   "outputs": [],
   "source": []
  },
  {
   "cell_type": "code",
   "execution_count": null,
   "metadata": {},
   "outputs": [],
   "source": []
  }
 ],
 "metadata": {
  "kernelspec": {
   "display_name": "Python 3.7",
   "language": "python",
   "name": "python37"
  },
  "language_info": {
   "codemirror_mode": {
    "name": "ipython",
    "version": 3
   },
   "file_extension": ".py",
   "mimetype": "text/x-python",
   "name": "python",
   "nbconvert_exporter": "python",
   "pygments_lexer": "ipython3",
   "version": "3.7.4"
  }
 },
 "nbformat": 4,
 "nbformat_minor": 4
}
